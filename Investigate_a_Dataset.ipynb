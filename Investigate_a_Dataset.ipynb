{
 "cells": [
  {
   "cell_type": "markdown",
   "metadata": {},
   "source": [
    "\n",
    "# Project: Soccer Database\n",
    "### (original source on Kaggle)\n",
    "\n",
    "## Table of Contents\n",
    " <ul>\n",
    " <li><a href=\"#intro\">Introduction</a></li>\n",
    " <li><a href=\"#wrangling\">Data Wrangling</a></li>\n",
    " <li><a href=\"#cleaning\">Data Cleaning</a></li>\n",
    " <li><a href=\"#eda\">Exploratory Data Analysis</a></li>\n",
    " <li><a href=\"#conclusions\">Conclusions</a></li>\n",
    " </ul>"
   ]
  },
  {
   "cell_type": "markdown",
   "metadata": {},
   "source": [
    "<a id='intro'></a>\n",
    "## Introduction\n",
    "\n",
    "\n",
    "#### Description\n",
    "#### The ultimate Soccer database for data analysis and machine learning\n",
    "\n",
    "- What you get:\n",
    "\n",
    "    - +25,000 matches\n",
    "    - +10,000 players\n",
    "    - 11 European Countries with their lead championship\n",
    "    - Seasons 2008 to 2016\n",
    "    - Players and Teams' attributes* sourced from EA Sports' FIFA video game series, including the weekly updates\n",
    "    - Team line up with squad formation (X, Y coordinates)\n",
    "    - Betting odds from up to 10 providers\n",
    "    - Detailed match events (goal types, possession, corner, cross, fouls, cards etc…) for +10,000 matches\n",
    "\n",
    "*16th Oct 2016: New table containing teams' attributes from FIFA !\n",
    "\n",
    "Original Data Source:\n",
    "\n",
    "You can easily find data about soccer matches but they are usually scattered across different websites. A thorough data collection and processing has been done to make your life easier. I must insist that you do not make any commercial use of the data. The data was sourced from:\n",
    "\n",
    " - Scores, lineup, team formation and events [from here](http://football-data.mx-api.enetscores.com)\n",
    "\n",
    " - Betting odds: If you want to understand the column naming system for betting odds [from here](http://www.football-data.co.uk/)\n",
    "\n",
    " - Players and teams attributes from EA Sports FIFA games. FIFA series and all FIFA assets property of EA Sports. [from here](http://sofifa.com/)\n",
    "\n",
    "---\n",
    "---\n",
    "---\n",
    "### Questions to be answered in EDA\n",
    "\n",
    "### Questions about teams \n",
    "\n",
    "#### (Research Question 1) What team attributes lead to the most victories?\n",
    "#### (Research Question 2) What are the top 5 teams that improved the most over the time period ? \n",
    "#### (Research Question 3) What team scored the most over the time period ?\n",
    "\n",
    "### Questions about player\n",
    "\n",
    "#### (Research Question 4) Which players had the most penalties? \n",
    "#### (Research Question 5) What player attributes lead to the highest overall rating ?\n",
    "#### (Research Question 6) Does  players' Footedness affect their potential ?"
   ]
  },
  {
   "cell_type": "code",
   "execution_count": 5,
   "metadata": {},
   "outputs": [],
   "source": [
    "import pandas as pd\n",
    "import numpy as np\n",
    "import requests\n",
    "import sqlite3\n",
    "import matplotlib.pyplot as plt\n",
    "import seaborn as sns\n",
    "%matplotlib inline\n",
    "\n",
    "## some the following cell does not run if chained_assignment in on so we will turn it off \n",
    "pd.options.mode.chained_assignment = None "
   ]
  },
  {
   "cell_type": "markdown",
   "metadata": {},
   "source": [
    "#### the Following cell needs to be used one time only "
   ]
  },
  {
   "cell_type": "code",
   "execution_count": null,
   "metadata": {},
   "outputs": [],
   "source": [
    "# ## Using Requests library to download a file \n",
    "# url = 'https://d17h27t6h515a5.cloudfront.net/topher/2017/November/5a0a4cad_database/database.sqlite'\n",
    "# response = requests.get(url)\n",
    "# with open('database.sqlite','wb') as outfile:\n",
    "#     outfile.write(response.content)"
   ]
  },
  {
   "cell_type": "code",
   "execution_count": null,
   "metadata": {},
   "outputs": [],
   "source": [
    "## importing database file \n",
    "db = sqlite3.connect('database.sqlite')"
   ]
  },
  {
   "cell_type": "markdown",
   "metadata": {},
   "source": [
    "<a id='wrangling'></a>\n",
    "## Data Wrangling\n",
    "\n",
    "\n",
    "### General Properties"
   ]
  },
  {
   "cell_type": "markdown",
   "metadata": {},
   "source": [
    "#### Essential information needed about database layout \n",
    "\n",
    "\n",
    " |Table                   |Total Rows   |Total Columns            |\n",
    " | -----------            | ----------- | ----------------------  |\n",
    " | Country                | 11          |          2              |\n",
    " | League                 | 11          |          3              |\n",
    " | Match                  | 25979       |          115            |\n",
    " | Player                 | 11060       |           7             |\n",
    " | Player_Attributes      | 183978      |          42             |\n",
    " | Team                   | 299         |           5             |\n",
    " | Team_Attributes        | 1458        |          25             |                "
   ]
  },
  {
   "cell_type": "markdown",
   "metadata": {},
   "source": [
    "#### reading all tables of `'database.sqlite'` file  into Pandas Dataframes and then choosing the needed data "
   ]
  },
  {
   "cell_type": "code",
   "execution_count": null,
   "metadata": {},
   "outputs": [],
   "source": [
    "## Dataframe for countrys\n",
    "soccer_country = pd.read_sql_query('SELECT * from Country', db)\n",
    "soccer_country"
   ]
  },
  {
   "cell_type": "code",
   "execution_count": null,
   "metadata": {},
   "outputs": [],
   "source": [
    "# soccer_country.info()"
   ]
  },
  {
   "cell_type": "code",
   "execution_count": null,
   "metadata": {},
   "outputs": [],
   "source": [
    "## Dataframe for Leagues\n",
    "soccer_league = pd.read_sql_query('SELECT * from League', db)\n",
    "soccer_league"
   ]
  },
  {
   "cell_type": "code",
   "execution_count": null,
   "metadata": {},
   "outputs": [],
   "source": [
    "# soccer_league.info()"
   ]
  },
  {
   "cell_type": "code",
   "execution_count": null,
   "metadata": {},
   "outputs": [],
   "source": [
    "### Dataframe for Matches\n",
    "soccer_match = pd.read_sql_query('SELECT * from Match', db)\n",
    "soccer_match "
   ]
  },
  {
   "cell_type": "code",
   "execution_count": null,
   "metadata": {},
   "outputs": [],
   "source": [
    "soccer_match.info()"
   ]
  },
  {
   "cell_type": "code",
   "execution_count": null,
   "metadata": {},
   "outputs": [],
   "source": [
    "list(soccer_match.columns)"
   ]
  },
  {
   "cell_type": "code",
   "execution_count": null,
   "metadata": {},
   "outputs": [],
   "source": [
    "soccer_match.date.value_counts()"
   ]
  },
  {
   "cell_type": "code",
   "execution_count": null,
   "metadata": {},
   "outputs": [],
   "source": [
    "### Dataframe for players\n",
    "soccer_player = pd.read_sql_query('SELECT * from Player', db)\n",
    "soccer_player"
   ]
  },
  {
   "cell_type": "code",
   "execution_count": null,
   "metadata": {},
   "outputs": [],
   "source": [
    "soccer_player.info()"
   ]
  },
  {
   "cell_type": "code",
   "execution_count": null,
   "metadata": {},
   "outputs": [],
   "source": [
    "### Dataframe for Players' Attributes\n",
    "soccer_player_att = pd.read_sql_query('SELECT * from Player_Attributes', db)\n",
    "soccer_player_att"
   ]
  },
  {
   "cell_type": "code",
   "execution_count": null,
   "metadata": {},
   "outputs": [],
   "source": [
    "soccer_player_att.info()"
   ]
  },
  {
   "cell_type": "code",
   "execution_count": null,
   "metadata": {},
   "outputs": [],
   "source": [
    "### Dataframe for Teams\n",
    "soccer_team = pd.read_sql_query('SELECT * from Team', db)\n",
    "soccer_team "
   ]
  },
  {
   "cell_type": "code",
   "execution_count": null,
   "metadata": {},
   "outputs": [],
   "source": [
    "soccer_team.info()"
   ]
  },
  {
   "cell_type": "code",
   "execution_count": null,
   "metadata": {},
   "outputs": [],
   "source": [
    "soccer_team.head()"
   ]
  },
  {
   "cell_type": "code",
   "execution_count": null,
   "metadata": {},
   "outputs": [],
   "source": [
    "### Dataframe for Teams' Attributes\n",
    "soccer_team_att = pd.read_sql_query('SELECT * from Team_Attributes', db)\n",
    "soccer_team_att"
   ]
  },
  {
   "cell_type": "code",
   "execution_count": null,
   "metadata": {},
   "outputs": [],
   "source": [
    "soccer_team_att.info()"
   ]
  },
  {
   "cell_type": "markdown",
   "metadata": {},
   "source": [
    "#### Dataframes  needed \n",
    "| Pandas Dataframes Name  | `database.sqlite`Table Name | Total Rows  | Total Columns           |\n",
    "| -----------             | -------------------         | ----------- | ----------------------  |\n",
    "| soccer_player           | Player                      | 11060       |           7             |\n",
    "| soccer_player_att       | Player_Attributes           | 183978      |          42             |\n",
    "| soccer_team             | Team                        | 299         |           5             |\n",
    "| soccer_team_att         | Team_Attributes             | 1458        |          25             |    \n",
    "| soccer_team_att         | Team_Attributes             | 1458        |          25             |\n",
    "| soccer_match            | Match                       | 25979       |          115            |"
   ]
  },
  {
   "cell_type": "markdown",
   "metadata": {},
   "source": [
    "<a id=\"cleaning\"></a>\n",
    "### Data Cleaning (Part 1)\n",
    "   - dealing with data tidiness issues "
   ]
  },
  {
   "cell_type": "markdown",
   "metadata": {},
   "source": [
    "We will start first with teams dataset"
   ]
  },
  {
   "cell_type": "markdown",
   "metadata": {},
   "source": [
    "`soccer_team_att[buildUpPlayDribbling]` column has so much missing values let us drop it"
   ]
  },
  {
   "cell_type": "code",
   "execution_count": null,
   "metadata": {},
   "outputs": [],
   "source": [
    "del soccer_team_att['buildUpPlayDribbling']"
   ]
  },
  {
   "cell_type": "code",
   "execution_count": null,
   "metadata": {},
   "outputs": [],
   "source": [
    "soccer_team_att.info()"
   ]
  },
  {
   "cell_type": "markdown",
   "metadata": {},
   "source": [
    "dropping duplicates"
   ]
  },
  {
   "cell_type": "code",
   "execution_count": null,
   "metadata": {},
   "outputs": [],
   "source": [
    "soccer_team_att[soccer_team_att.duplicated()]"
   ]
  },
  {
   "cell_type": "code",
   "execution_count": null,
   "metadata": {},
   "outputs": [],
   "source": [
    "soccer_team[soccer_team.duplicated()]"
   ]
  },
  {
   "cell_type": "markdown",
   "metadata": {},
   "source": [
    "dropping null values"
   ]
  },
  {
   "cell_type": "code",
   "execution_count": null,
   "metadata": {},
   "outputs": [],
   "source": [
    "soccer_team_att = soccer_team_att.dropna()\n",
    "soccer_team = soccer_team.dropna()"
   ]
  },
  {
   "cell_type": "code",
   "execution_count": null,
   "metadata": {},
   "outputs": [],
   "source": [
    "soccer_team_att.info()"
   ]
  },
  {
   "cell_type": "code",
   "execution_count": null,
   "metadata": {},
   "outputs": [],
   "source": [
    "soccer_team.info()"
   ]
  },
  {
   "cell_type": "markdown",
   "metadata": {},
   "source": [
    "`soccer_team['team_fifa_api_id']` column has inconsistent datatype 'float' will remove it and coninue with\n",
    "`soccer_team['team_api_id']`"
   ]
  },
  {
   "cell_type": "code",
   "execution_count": null,
   "metadata": {},
   "outputs": [],
   "source": [
    "del soccer_team['team_fifa_api_id']"
   ]
  },
  {
   "cell_type": "code",
   "execution_count": null,
   "metadata": {},
   "outputs": [],
   "source": [
    "soccer_team.info()"
   ]
  },
  {
   "cell_type": "markdown",
   "metadata": {},
   "source": [
    "finding teams who are not common in both `soccer_team` & `soccer_team_att` by `'team_api_id'` column"
   ]
  },
  {
   "cell_type": "code",
   "execution_count": null,
   "metadata": {},
   "outputs": [],
   "source": [
    "soccer_team['team_api_id'].nunique()"
   ]
  },
  {
   "cell_type": "code",
   "execution_count": null,
   "metadata": {},
   "outputs": [],
   "source": [
    "soccer_team_att['team_api_id'].nunique()"
   ]
  },
  {
   "cell_type": "markdown",
   "metadata": {},
   "source": [
    "checking for uncommon teams in both datasets again"
   ]
  },
  {
   "cell_type": "code",
   "execution_count": null,
   "metadata": {},
   "outputs": [],
   "source": [
    "not_comm_teams = []\n",
    "for value in soccer_team['team_api_id'].values:\n",
    "    if value not in soccer_team_att['team_api_id'].values:\n",
    "        not_comm_teams.append(value)"
   ]
  },
  {
   "cell_type": "code",
   "execution_count": null,
   "metadata": {},
   "outputs": [],
   "source": [
    "not_comm_teams"
   ]
  },
  {
   "cell_type": "markdown",
   "metadata": {},
   "source": [
    "there are no uncommon teams in both `soccer_team` & `soccer_team_att` let us proceed\n"
   ]
  },
  {
   "cell_type": "markdown",
   "metadata": {},
   "source": [
    "After that we need to incorporate data from `soccer_team` & `soccer_team_att` into one dataframe \n",
    "\n",
    "`pd.merge` will not be sufficient because that we have repeated values in the  `soccer_team_att`  related to the varios time periods for each team \n",
    "\n",
    "\n",
    "   - 1) Slice the `soccer_team_att` dataframe into small dataframes according to the `team_api_id` values  \n",
    "   - 2) Add new column to each small dataframe \n",
    "   - 3) Use the `np.repeat` function to fill those two columns using values from`soccer_team[team_long_name]` &`soccer_team[team_short_name]` columns\n",
    "   \n",
    "   - 4) Append all small dataframes into the product dataframe `team_df`\n",
    "   \n",
    "----\n",
    "- the product dataframe `team_df` will have two additional columns compared to  `soccer_team_att`  dataframe which are `team_long_name` `team_short_name`\n"
   ]
  },
  {
   "cell_type": "code",
   "execution_count": null,
   "metadata": {},
   "outputs": [],
   "source": [
    "for valu in soccer_team['team_api_id'].values :\n",
    "        small_df = soccer_team_att[soccer_team_att['team_api_id'] == valu]  \n",
    "        col_Names = ['team_long_name','team_short_name']\n",
    "        for col_name in col_Names :\n",
    "            team_long = np.repeat(soccer_team[soccer_team['team_api_id'] == valu ][col_name].iloc[0],small_df.shape[0])\n",
    "            small_df[col_name] = team_long\n",
    "        break "
   ]
  },
  {
   "cell_type": "code",
   "execution_count": null,
   "metadata": {},
   "outputs": [],
   "source": [
    "### getting ourselves an empty dataframe for free\n",
    "team_df_1 = small_df[small_df.duplicated()]\n",
    "team_df_1"
   ]
  },
  {
   "cell_type": "code",
   "execution_count": null,
   "metadata": {},
   "outputs": [],
   "source": [
    "for valu in soccer_team['team_api_id'].values :\n",
    "        small_df = soccer_team_att[soccer_team_att['team_api_id'] == valu]  \n",
    "        team_long = np.repeat(soccer_team[soccer_team['team_api_id'] == valu ]['team_long_name'].iloc[0],small_df.shape[0])\n",
    "        team_short = np.repeat(soccer_team[soccer_team['team_api_id'] == valu ]['team_short_name'].iloc[0],small_df.shape[0])\n",
    "        small_df['team_long_name'] = team_long\n",
    "        small_df['team_short_name'] =  team_short\n",
    "        team_df_1 = team_df_1.append(small_df)"
   ]
  },
  {
   "cell_type": "code",
   "execution_count": null,
   "metadata": {},
   "outputs": [],
   "source": [
    "team_df_1"
   ]
  },
  {
   "cell_type": "markdown",
   "metadata": {},
   "source": [
    "will add a new column for each teams' goals in a year called `goals_year` but first will make a `year` column and import the scores from `soccer_match` dataframe"
   ]
  },
  {
   "cell_type": "code",
   "execution_count": null,
   "metadata": {},
   "outputs": [],
   "source": [
    "team_df_1['year'] = team_df_1['date'].apply(lambda x : x.split('-')[0])"
   ]
  },
  {
   "cell_type": "code",
   "execution_count": null,
   "metadata": {},
   "outputs": [],
   "source": [
    "team_df_1[0:10]\n",
    "## or simply \n",
    "#team_df_1.head(10)"
   ]
  },
  {
   "cell_type": "code",
   "execution_count": null,
   "metadata": {},
   "outputs": [],
   "source": [
    "team_df_1['year'] = team_df_1['year'].astype(int) "
   ]
  },
  {
   "cell_type": "markdown",
   "metadata": {},
   "source": [
    "will do a year column also for `soccer_match` to enable use pick scores easily "
   ]
  },
  {
   "cell_type": "code",
   "execution_count": null,
   "metadata": {},
   "outputs": [],
   "source": [
    "soccer_match['year'] = soccer_match['date'].apply(lambda x : x.split('-')[0])"
   ]
  },
  {
   "cell_type": "code",
   "execution_count": null,
   "metadata": {},
   "outputs": [],
   "source": [
    "soccer_match['year'] = soccer_match['year'].astype(int) "
   ]
  },
  {
   "cell_type": "code",
   "execution_count": null,
   "metadata": {},
   "outputs": [],
   "source": [
    "soccer_match.info()"
   ]
  },
  {
   "cell_type": "markdown",
   "metadata": {},
   "source": [
    "- then well do a loop that goes through `team_api_id` column from `team_df_1` dataframe and matches it with `home_team_api_id` & `away_team_api_id` columns in `soccer_match` dataframe  and if it matches :\n",
    "     - then it will check if there are any goals in the `home_team_goal`& `away_team_goal` columns from the same dataframe for the same `year`\n",
    "         \n",
    "        -  then it will be added in the `goals_year` column of `teams_scores_f` dataframe"
   ]
  },
  {
   "cell_type": "code",
   "execution_count": null,
   "metadata": {},
   "outputs": [],
   "source": [
    "### making a list of all unique years \n",
    "year_list = list(set(team_df_1['year']))\n",
    "year_list"
   ]
  },
  {
   "cell_type": "code",
   "execution_count": null,
   "metadata": {},
   "outputs": [],
   "source": [
    "teams_scores_f = pd.DataFrame({'team_api_id': [], 'goals_year': [] , 'year': []})\n",
    "\n",
    "for year_1 in year_list:\n",
    "    inner_df_1_team_y = team_df_1[team_df_1['year'] == year_1]\n",
    "    inner_df_1_match_y = soccer_match[soccer_match['year'] == year_1]\n",
    "    for api_id in inner_df_1_team_y['team_api_id'].unique():\n",
    "                home = inner_df_1_match_y[inner_df_1_match_y['home_team_api_id'] == api_id].home_team_goal.sum()\n",
    "                away = inner_df_1_match_y[inner_df_1_match_y['away_team_api_id'] == api_id].away_team_goal.sum()\n",
    "                total_team_score_y = home + away\n",
    "                teams_scores = pd.DataFrame({'team_api_id': [api_id], 'goals_year': [total_team_score_y] , 'year': [year_1]})\n",
    "                teams_scores_f = teams_scores_f.append(teams_scores)\n",
    "  "
   ]
  },
  {
   "cell_type": "code",
   "execution_count": null,
   "metadata": {},
   "outputs": [],
   "source": [
    "teams_scores_f = teams_scores_f.astype(int)"
   ]
  },
  {
   "cell_type": "markdown",
   "metadata": {},
   "source": [
    "returning back to our `team_df_1` which we will use to add total goals in  `goals_year` column for every team in each year in a whole new dataframe :"
   ]
  },
  {
   "cell_type": "markdown",
   "metadata": {},
   "source": [
    "will add scores to `goals_year`in `team_df_1` dataframe with the following manner:\n",
    "   - make small dataframe each has the same `team_api_id` values using `team_df_1`dataframe\n",
    "   - make small dataframe each has the same `team_api_id` values using `teams_scores_f`dataframe\n",
    "   - merge the last two dataframes in to a small final dataframes\n",
    "   - through a loop will append all dataframes produced in the last step into a last df"
   ]
  },
  {
   "cell_type": "code",
   "execution_count": null,
   "metadata": {},
   "outputs": [],
   "source": [
    "for api_id in teams_scores_f['team_api_id']:\n",
    "    df1 = team_df_1[team_df_1['team_api_id'] == api_id]\n",
    "    df2 = teams_scores_f[teams_scores_f['team_api_id'] == api_id]\n",
    "    df2.pop('team_api_id')\n",
    "    df3 = pd.merge(df1, df2, on=\"year\")\n",
    "    break    \n",
    "### getting an empty  dataframe from the same labels and size\n",
    "team_df_2 = df3[df3.duplicated()]\n",
    "   \n"
   ]
  },
  {
   "cell_type": "code",
   "execution_count": null,
   "metadata": {},
   "outputs": [],
   "source": [
    "for api_id in teams_scores_f['team_api_id']:\n",
    "    df1 = team_df_1[team_df_1['team_api_id'] == api_id]\n",
    "    df2 = teams_scores_f[teams_scores_f['team_api_id'] == api_id]\n",
    "    df2.pop('team_api_id')\n",
    "    df3 = pd.merge(df1, df2, on=\"year\")\n",
    "    team_df_2 = team_df_2.append(df3)"
   ]
  },
  {
   "cell_type": "code",
   "execution_count": null,
   "metadata": {},
   "outputs": [],
   "source": [
    "team_df_2 = team_df_2.drop_duplicates()"
   ]
  },
  {
   "cell_type": "code",
   "execution_count": null,
   "metadata": {},
   "outputs": [],
   "source": [
    "team_df_2"
   ]
  },
  {
   "cell_type": "markdown",
   "metadata": {},
   "source": [
    "saving the `team_df` into a flat file "
   ]
  },
  {
   "cell_type": "code",
   "execution_count": null,
   "metadata": {},
   "outputs": [],
   "source": [
    "team_df_2.to_csv('team_df_v1.csv' , index = False)"
   ]
  },
  {
   "cell_type": "markdown",
   "metadata": {},
   "source": [
    "###### Second we will deal with players datasets\n"
   ]
  },
  {
   "cell_type": "markdown",
   "metadata": {},
   "source": [
    "Merging `soccer_player` & `soccer_player_att ` dataframes will not be effecient because of the iteration needed in the product dataframe especially every player has got various periods of performance  ...so we will go around that performing the following steps:\n",
    "\n",
    "   - 1) Slice the `soccer_player_att` dataframe into small dataframes according to the `player_api_id` values  \n",
    "   - 2) Add the missing columns to each small dataframe \n",
    "   - 3) Use the `np.repeat` function to fill those columns using values from `soccer_player` columns\n",
    "   \n",
    "   - 4) Append all small dataframes into the product dataframe `player_df`\n",
    "   \n",
    "----\n",
    "- the product dataframe `player_df` will have  additional columns compared to  `soccer_player_att`  dataframe which \n",
    "\n",
    "---"
   ]
  },
  {
   "cell_type": "markdown",
   "metadata": {},
   "source": [
    "-  will drop players that are not common in both  `soccer_player` & `soccer_player_att ` datasets"
   ]
  },
  {
   "cell_type": "markdown",
   "metadata": {
    "collapsed": true
   },
   "source": [
    "\n",
    "     - but first we check for duplicates and NaNs in both dataframes"
   ]
  },
  {
   "cell_type": "code",
   "execution_count": null,
   "metadata": {},
   "outputs": [],
   "source": [
    "soccer_player['player_fifa_api_id'].value_counts().count()\n",
    "## or simply \n",
    "#soccer_player['player_fifa_api_id'].nunique()"
   ]
  },
  {
   "cell_type": "code",
   "execution_count": null,
   "metadata": {
    "scrolled": true
   },
   "outputs": [],
   "source": [
    "soccer_player_att['player_fifa_api_id'].value_counts().count()\n",
    "## or simply \n",
    "#soccer_player_att['player_fifa_api_id'].nunique()"
   ]
  },
  {
   "cell_type": "code",
   "execution_count": null,
   "metadata": {},
   "outputs": [],
   "source": [
    "soccer_player_att[soccer_player_att.duplicated()]"
   ]
  },
  {
   "cell_type": "code",
   "execution_count": null,
   "metadata": {},
   "outputs": [],
   "source": [
    "soccer_player[soccer_player.duplicated()]"
   ]
  },
  {
   "cell_type": "markdown",
   "metadata": {},
   "source": [
    "- as we checked earlier there are no duplicates in both `soccer_player` & `soccer_player_att` dataframes\n",
    "- let's drop all Nan Values from them both "
   ]
  },
  {
   "cell_type": "code",
   "execution_count": null,
   "metadata": {},
   "outputs": [],
   "source": [
    "## dropping null values\n",
    "soccer_player = soccer_player.dropna()\n",
    "soccer_player_att = soccer_player_att.dropna()"
   ]
  },
  {
   "cell_type": "code",
   "execution_count": null,
   "metadata": {},
   "outputs": [],
   "source": [
    "## saving dataframes to flat files \n",
    "soccer_player.to_csv('soccer_player_fl.csv', index = False)\n",
    "soccer_player_att.to_csv('soccer_player_att_fl.csv', index = False)"
   ]
  },
  {
   "cell_type": "code",
   "execution_count": null,
   "metadata": {},
   "outputs": [],
   "source": [
    "### loading to dataframes\n",
    "soccer_player_edited = pd.read_csv('soccer_player_fl.csv')\n",
    "soccer_player_att_edited = pd.read_csv('soccer_player_att_fl.csv')"
   ]
  },
  {
   "cell_type": "markdown",
   "metadata": {},
   "source": [
    "- All columns that we need from `soccer_player_edited`dataframe to add to `soccer_player_att_edited`  dataframe slices_edited are `['player_name','birthday','height','weight']`"
   ]
  },
  {
   "cell_type": "markdown",
   "metadata": {},
   "source": [
    "so let's merge the needed columns from `soccer_player_edited` to our `soccer_player_att_edited` "
   ]
  },
  {
   "cell_type": "code",
   "execution_count": null,
   "metadata": {},
   "outputs": [],
   "source": [
    "soccer_player_edited.info()"
   ]
  },
  {
   "cell_type": "code",
   "execution_count": null,
   "metadata": {},
   "outputs": [],
   "source": [
    "soccer_player_att_edited.info()"
   ]
  },
  {
   "cell_type": "code",
   "execution_count": null,
   "metadata": {},
   "outputs": [],
   "source": [
    "columns_required = ['player_fifa_api_id','player_name','birthday','height','weight']"
   ]
  },
  {
   "cell_type": "code",
   "execution_count": null,
   "metadata": {},
   "outputs": [],
   "source": [
    "soccer_player_all = soccer_player_edited[columns_required].merge(soccer_player_att_edited, on = 'player_fifa_api_id')"
   ]
  },
  {
   "cell_type": "code",
   "execution_count": null,
   "metadata": {},
   "outputs": [],
   "source": [
    "soccer_player_all"
   ]
  },
  {
   "cell_type": "code",
   "execution_count": null,
   "metadata": {},
   "outputs": [],
   "source": [
    "soccer_player_all['player_fifa_api_id'].value_counts().count()"
   ]
  },
  {
   "cell_type": "markdown",
   "metadata": {},
   "source": [
    "--- \n",
    "thanks for the note that was really helpful :)\n",
    "\n",
    "---"
   ]
  },
  {
   "cell_type": "code",
   "execution_count": null,
   "metadata": {},
   "outputs": [],
   "source": [
    "soccer_player_all.to_csv('player_df_V1.csv',index= False)"
   ]
  },
  {
   "cell_type": "markdown",
   "metadata": {},
   "source": [
    "### Data Cleaning (Part 2)\n",
    "   - dealing with data quality issues\n",
    " \n",
    "starting with teams dataset first and then player dataset"
   ]
  },
  {
   "cell_type": "code",
   "execution_count": null,
   "metadata": {},
   "outputs": [],
   "source": [
    "team_df_f = pd.read_csv('team_df_v1.csv')"
   ]
  },
  {
   "cell_type": "code",
   "execution_count": null,
   "metadata": {},
   "outputs": [],
   "source": [
    "team_df_f.info()"
   ]
  },
  {
   "cell_type": "code",
   "execution_count": null,
   "metadata": {},
   "outputs": [],
   "source": [
    "team_df_f.describe()"
   ]
  },
  {
   "cell_type": "markdown",
   "metadata": {},
   "source": [
    "let's have a better look  inside every column to know which values need to be converted to more consistent type \n",
    "specially non-numeric type except `team_long_name `&`team_short_name`"
   ]
  },
  {
   "cell_type": "code",
   "execution_count": null,
   "metadata": {},
   "outputs": [],
   "source": [
    "non_numeric = ['date' , 'buildUpPlaySpeedClass' , 'buildUpPlayDribblingClass' , 'buildUpPlayPassingClass' ,\\\n",
    "               'buildUpPlayPositioningClass' , 'chanceCreationPassingClass', 'chanceCreationCrossingClass' ,\\\n",
    "              'chanceCreationShootingClass' , 'chanceCreationPositioningClass','defencePressureClass',\\\n",
    "               'defenceAggressionClass','defenceTeamWidthClass','defenceDefenderLineClass']\n",
    "for col in non_numeric :\n",
    "    look = team_df_f[col].value_counts()\n",
    "    print(look)"
   ]
  },
  {
   "cell_type": "markdown",
   "metadata": {},
   "source": [
    "team dataset  is ready let's save it in a clean final flat file before analysis "
   ]
  },
  {
   "cell_type": "code",
   "execution_count": null,
   "metadata": {},
   "outputs": [],
   "source": [
    "team_df_f.to_csv('team_clean.csv',index = False)"
   ]
  },
  {
   "cell_type": "markdown",
   "metadata": {},
   "source": [
    "----\n",
    "----\n",
    "---"
   ]
  },
  {
   "cell_type": "markdown",
   "metadata": {},
   "source": [
    "now will have a look on player dataset"
   ]
  },
  {
   "cell_type": "code",
   "execution_count": null,
   "metadata": {
    "scrolled": true
   },
   "outputs": [],
   "source": [
    "player_df_f = pd.read_csv('player_df_V1.csv')"
   ]
  },
  {
   "cell_type": "code",
   "execution_count": null,
   "metadata": {},
   "outputs": [],
   "source": [
    "player_df_f.info()"
   ]
  },
  {
   "cell_type": "code",
   "execution_count": null,
   "metadata": {},
   "outputs": [],
   "source": [
    "player_df_f.describe()"
   ]
  },
  {
   "cell_type": "markdown",
   "metadata": {},
   "source": [
    "`penalties` has to be an integer"
   ]
  },
  {
   "cell_type": "code",
   "execution_count": null,
   "metadata": {},
   "outputs": [],
   "source": [
    "player_df_f['penalties'] = player_df_f['penalties'].astype(int)"
   ]
  },
  {
   "cell_type": "markdown",
   "metadata": {},
   "source": [
    "let's have a good look inside every non-numeric column \n",
    "  - there are only 6 of them here"
   ]
  },
  {
   "cell_type": "code",
   "execution_count": null,
   "metadata": {},
   "outputs": [],
   "source": [
    "non_numeric_1 = ['date' ,'preferred_foot','attacking_work_rate','defensive_work_rate' , 'birthday']\n",
    "for col in non_numeric_1 :\n",
    "    look = player_df_f[col].value_counts()\n",
    "    print(look)"
   ]
  },
  {
   "cell_type": "markdown",
   "metadata": {},
   "source": [
    "- `date`: needs to be converted to datetime object \n",
    "---\n",
    "- `birthday`: needs to be converted to datetime object\n",
    "---\n",
    "\n",
    "\n",
    "- the next two columns have plenty of common and scattered data between them so we will \n",
    "   deal with them in a conjugated manner   explaining every step\n",
    "\n",
    "    -  `attacking_work_rate` : has plenty of representations for the same values \n",
    "          while the actual representations are (high , low , medium , None) \n",
    "\n",
    "    -  `defensive_work_rate` : has the same previous problem "
   ]
  },
  {
   "cell_type": "markdown",
   "metadata": {},
   "source": [
    "`date` column "
   ]
  },
  {
   "cell_type": "code",
   "execution_count": null,
   "metadata": {},
   "outputs": [],
   "source": [
    "player_df_f['date'] = player_df_f['date'].apply(lambda x : x.split(' ')[0])"
   ]
  },
  {
   "cell_type": "code",
   "execution_count": null,
   "metadata": {},
   "outputs": [],
   "source": [
    "player_df_f.date[0]"
   ]
  },
  {
   "cell_type": "code",
   "execution_count": null,
   "metadata": {},
   "outputs": [],
   "source": [
    "player_df_f['date'] =  pd.to_datetime(player_df_f['date'], format='%Y-%m-%d')"
   ]
  },
  {
   "cell_type": "code",
   "execution_count": null,
   "metadata": {},
   "outputs": [],
   "source": [
    "player_df_f.date"
   ]
  },
  {
   "cell_type": "markdown",
   "metadata": {},
   "source": [
    "`birthday` column "
   ]
  },
  {
   "cell_type": "code",
   "execution_count": null,
   "metadata": {},
   "outputs": [],
   "source": [
    "player_df_f['birthday'] = player_df_f['birthday'].apply(lambda x : x.split(' ')[0])"
   ]
  },
  {
   "cell_type": "code",
   "execution_count": null,
   "metadata": {},
   "outputs": [],
   "source": [
    "player_df_f.birthday[0]"
   ]
  },
  {
   "cell_type": "code",
   "execution_count": null,
   "metadata": {},
   "outputs": [],
   "source": [
    "player_df_f['birthday'] =  pd.to_datetime(player_df_f['birthday'], format='%Y-%m-%d')"
   ]
  },
  {
   "cell_type": "code",
   "execution_count": null,
   "metadata": {},
   "outputs": [],
   "source": [
    "player_df_f.birthday"
   ]
  },
  {
   "cell_type": "markdown",
   "metadata": {},
   "source": [
    " `attacking_work_rate` &   `defensive_work_rate`  columns "
   ]
  },
  {
   "cell_type": "code",
   "execution_count": null,
   "metadata": {},
   "outputs": [],
   "source": [
    " player_df_f['attacking_work_rate'].value_counts()"
   ]
  },
  {
   "cell_type": "code",
   "execution_count": null,
   "metadata": {},
   "outputs": [],
   "source": [
    "player_df_f['defensive_work_rate'].value_counts()"
   ]
  },
  {
   "cell_type": "markdown",
   "metadata": {},
   "source": [
    "\n",
    " first i discovered scattered values between the two columns as the following table shows :\n",
    " \n",
    "\n",
    "   \n",
    "   \n",
    "| Column Name             | Value                       | Value Count | Conclusion                             |\n",
    "| -----------             | -------------------         | ----------- | ----------------------                 |\n",
    "|`attacking_work_rate`    |         y                   |    94       |                                        |\n",
    "|`defensive_work_rate`    |         es                  |    94       |the two values are the same = 'yes'     |\n",
    "|`attacking_work_rate`    |        stoc                 |    86       |                                        | \n",
    "|`defensive_work_rate`    |        tocky                |    86       |the two values are the same = 'stocky'  |  \n",
    "|`attacking_work_rate`    |        le                   |    78       |                                        |\n",
    "|`defensive_work_rate`    |        ean                  |    78       |the two values are the same = 'lean'    |\n",
    "|`attacking_work_rate`    |        norm                 |    317      |                                        |\n",
    "|`defensive_work_rate`    |        ormal                |    317      |the two values are the same = 'normal'  | \n",
    "\n",
    "- the 'yes' will be replaced with 'medium' \n",
    "- the 'normal' will be replaced with 'medium' \n",
    "\n",
    "after some search on google 'lean' means weak performance so :\n",
    "\n",
    "- 'lean' will be replaced with 'low'\n",
    "\n",
    "after some search on google 'stocky' means high performance so :\n",
    "\n",
    "- 'stocky' will be replaced with 'high'"
   ]
  },
  {
   "cell_type": "markdown",
   "metadata": {},
   "source": [
    "----"
   ]
  },
  {
   "cell_type": "code",
   "execution_count": null,
   "metadata": {},
   "outputs": [],
   "source": [
    "player_df_f['attacking_work_rate'].replace(['y' ,'norm'],'medium', inplace = True)"
   ]
  },
  {
   "cell_type": "code",
   "execution_count": null,
   "metadata": {},
   "outputs": [],
   "source": [
    "player_df_f['attacking_work_rate'].value_counts()"
   ]
  },
  {
   "cell_type": "code",
   "execution_count": null,
   "metadata": {},
   "outputs": [],
   "source": [
    "player_df_f[player_df_f['attacking_work_rate']== 'y'] "
   ]
  },
  {
   "cell_type": "code",
   "execution_count": null,
   "metadata": {},
   "outputs": [],
   "source": [
    "player_df_f[player_df_f['attacking_work_rate']== 'norm'] "
   ]
  },
  {
   "cell_type": "code",
   "execution_count": null,
   "metadata": {},
   "outputs": [],
   "source": [
    "player_df_f['attacking_work_rate'].replace(['stoc'],'high', inplace = True)"
   ]
  },
  {
   "cell_type": "code",
   "execution_count": null,
   "metadata": {},
   "outputs": [],
   "source": [
    "player_df_f[player_df_f['attacking_work_rate']== 'stoc'] "
   ]
  },
  {
   "cell_type": "code",
   "execution_count": null,
   "metadata": {},
   "outputs": [],
   "source": [
    "player_df_f['attacking_work_rate'].replace(['le'],'low', inplace = True)"
   ]
  },
  {
   "cell_type": "code",
   "execution_count": null,
   "metadata": {},
   "outputs": [],
   "source": [
    "player_df_f[player_df_f['attacking_work_rate']== 'le'] "
   ]
  },
  {
   "cell_type": "code",
   "execution_count": null,
   "metadata": {},
   "outputs": [],
   "source": [
    "player_df_f['defensive_work_rate'].replace(['es' ,'ormal'],'medium', inplace = True)"
   ]
  },
  {
   "cell_type": "code",
   "execution_count": null,
   "metadata": {},
   "outputs": [],
   "source": [
    "player_df_f['defensive_work_rate'].replace(['tocky'],'high', inplace = True)"
   ]
  },
  {
   "cell_type": "code",
   "execution_count": null,
   "metadata": {},
   "outputs": [],
   "source": [
    "player_df_f['defensive_work_rate'].replace(['ean'],'low', inplace = True)"
   ]
  },
  {
   "cell_type": "markdown",
   "metadata": {},
   "source": [
    "seems also that `defensive_work_rate` column has data of scale from 0 to 9 related to the player defensive work \n",
    "so we will :\n",
    "- consider players with the value of     '4'&'5' as 'medium' \n",
    "- consider players with the value above  '5' as 'high'\n",
    "- consider players with the value below  '4' as 'low' "
   ]
  },
  {
   "cell_type": "code",
   "execution_count": null,
   "metadata": {},
   "outputs": [],
   "source": [
    "player_df_f['defensive_work_rate'].replace(['4','5'],'medium', inplace = True)"
   ]
  },
  {
   "cell_type": "code",
   "execution_count": null,
   "metadata": {},
   "outputs": [],
   "source": [
    "player_df_f['defensive_work_rate'].replace(['0','1','2','3'],'low', inplace = True)"
   ]
  },
  {
   "cell_type": "code",
   "execution_count": null,
   "metadata": {},
   "outputs": [],
   "source": [
    "player_df_f['defensive_work_rate'].replace(['6','7','8','9'],'high', inplace = True)"
   ]
  },
  {
   "cell_type": "markdown",
   "metadata": {},
   "source": [
    "there is an issue here which i can't identify players who have `defensive_work_rate` that equals `'o'`\n",
    "so let's have a deeper look at other player data to try identifing what `'o'` refers to"
   ]
  },
  {
   "cell_type": "code",
   "execution_count": null,
   "metadata": {},
   "outputs": [],
   "source": [
    "player_df_f[player_df_f['defensive_work_rate'] == 'o']"
   ]
  },
  {
   "cell_type": "code",
   "execution_count": null,
   "metadata": {},
   "outputs": [],
   "source": [
    "player_df_f[player_df_f['defensive_work_rate'] == 'o'].attacking_work_rate.value_counts()"
   ]
  },
  {
   "cell_type": "markdown",
   "metadata": {},
   "source": [
    "- seems like those player has no defensive work contributions nor attacking work contributions because they play in the center of the soccer field \n",
    "   - `'o'` becomes 'None'"
   ]
  },
  {
   "cell_type": "code",
   "execution_count": null,
   "metadata": {},
   "outputs": [],
   "source": [
    "player_df_f['defensive_work_rate'].replace(['o'],'None', inplace = True)"
   ]
  },
  {
   "cell_type": "code",
   "execution_count": null,
   "metadata": {},
   "outputs": [],
   "source": [
    "player_df_f['defensive_work_rate'].value_counts()"
   ]
  },
  {
   "cell_type": "code",
   "execution_count": null,
   "metadata": {
    "scrolled": true
   },
   "outputs": [],
   "source": [
    "player_df_f['attacking_work_rate'].value_counts()"
   ]
  },
  {
   "cell_type": "markdown",
   "metadata": {},
   "source": [
    "i think we are done know and we can save the players dataset in a clean flat file "
   ]
  },
  {
   "cell_type": "code",
   "execution_count": null,
   "metadata": {},
   "outputs": [],
   "source": [
    "player_df_f.to_csv('player_clean.csv',index = False)"
   ]
  },
  {
   "cell_type": "code",
   "execution_count": null,
   "metadata": {},
   "outputs": [],
   "source": [
    "player_df = pd.read_csv('player_clean.csv')"
   ]
  },
  {
   "cell_type": "code",
   "execution_count": null,
   "metadata": {},
   "outputs": [],
   "source": [
    "player_df.info()"
   ]
  },
  {
   "cell_type": "markdown",
   "metadata": {},
   "source": [
    "<a id='eda'></a>\n",
    "## Exploratory Data Analysis\n",
    "\n",
    "\n",
    "### Questions about teams \n",
    "\n",
    "### (Research Question 1) What team attributes lead to the most victories?"
   ]
  },
  {
   "cell_type": "markdown",
   "metadata": {},
   "source": [
    "###### to answer this question we first load `'team_clean.csv' `into a dataframe"
   ]
  },
  {
   "cell_type": "code",
   "execution_count": 7,
   "metadata": {},
   "outputs": [],
   "source": [
    "team_df = pd.read_csv('team_clean.csv')"
   ]
  },
  {
   "cell_type": "markdown",
   "metadata": {},
   "source": [
    "to answer this question will first have a look at teams' statistics"
   ]
  },
  {
   "cell_type": "code",
   "execution_count": 8,
   "metadata": {},
   "outputs": [
    {
     "data": {
      "text/html": [
       "<div>\n",
       "<style scoped>\n",
       "    .dataframe tbody tr th:only-of-type {\n",
       "        vertical-align: middle;\n",
       "    }\n",
       "\n",
       "    .dataframe tbody tr th {\n",
       "        vertical-align: top;\n",
       "    }\n",
       "\n",
       "    .dataframe thead th {\n",
       "        text-align: right;\n",
       "    }\n",
       "</style>\n",
       "<table border=\"1\" class=\"dataframe\">\n",
       "  <thead>\n",
       "    <tr style=\"text-align: right;\">\n",
       "      <th></th>\n",
       "      <th>id</th>\n",
       "      <th>team_fifa_api_id</th>\n",
       "      <th>team_api_id</th>\n",
       "      <th>buildUpPlaySpeed</th>\n",
       "      <th>buildUpPlayPassing</th>\n",
       "      <th>chanceCreationPassing</th>\n",
       "      <th>chanceCreationCrossing</th>\n",
       "      <th>chanceCreationShooting</th>\n",
       "      <th>defencePressure</th>\n",
       "      <th>defenceAggression</th>\n",
       "      <th>defenceTeamWidth</th>\n",
       "      <th>year</th>\n",
       "      <th>goals_year</th>\n",
       "    </tr>\n",
       "  </thead>\n",
       "  <tbody>\n",
       "    <tr>\n",
       "      <th>count</th>\n",
       "      <td>1458.000000</td>\n",
       "      <td>1458.000000</td>\n",
       "      <td>1458.000000</td>\n",
       "      <td>1458.000000</td>\n",
       "      <td>1458.000000</td>\n",
       "      <td>1458.000000</td>\n",
       "      <td>1458.000000</td>\n",
       "      <td>1458.000000</td>\n",
       "      <td>1458.000000</td>\n",
       "      <td>1458.000000</td>\n",
       "      <td>1458.000000</td>\n",
       "      <td>1458.000000</td>\n",
       "      <td>1458.000000</td>\n",
       "    </tr>\n",
       "    <tr>\n",
       "      <th>mean</th>\n",
       "      <td>729.500000</td>\n",
       "      <td>17706.982167</td>\n",
       "      <td>9995.727023</td>\n",
       "      <td>52.462277</td>\n",
       "      <td>48.490398</td>\n",
       "      <td>52.165295</td>\n",
       "      <td>53.731824</td>\n",
       "      <td>53.969136</td>\n",
       "      <td>46.017147</td>\n",
       "      <td>49.251029</td>\n",
       "      <td>52.185871</td>\n",
       "      <td>2012.506859</td>\n",
       "      <td>35.185185</td>\n",
       "    </tr>\n",
       "    <tr>\n",
       "      <th>std</th>\n",
       "      <td>421.032659</td>\n",
       "      <td>39179.857739</td>\n",
       "      <td>13264.869900</td>\n",
       "      <td>11.545869</td>\n",
       "      <td>10.896101</td>\n",
       "      <td>10.360793</td>\n",
       "      <td>11.086796</td>\n",
       "      <td>10.327566</td>\n",
       "      <td>10.227225</td>\n",
       "      <td>9.738028</td>\n",
       "      <td>9.574712</td>\n",
       "      <td>1.709201</td>\n",
       "      <td>24.073155</td>\n",
       "    </tr>\n",
       "    <tr>\n",
       "      <th>min</th>\n",
       "      <td>1.000000</td>\n",
       "      <td>1.000000</td>\n",
       "      <td>1601.000000</td>\n",
       "      <td>20.000000</td>\n",
       "      <td>20.000000</td>\n",
       "      <td>21.000000</td>\n",
       "      <td>20.000000</td>\n",
       "      <td>22.000000</td>\n",
       "      <td>23.000000</td>\n",
       "      <td>24.000000</td>\n",
       "      <td>29.000000</td>\n",
       "      <td>2010.000000</td>\n",
       "      <td>0.000000</td>\n",
       "    </tr>\n",
       "    <tr>\n",
       "      <th>25%</th>\n",
       "      <td>365.250000</td>\n",
       "      <td>110.000000</td>\n",
       "      <td>8457.750000</td>\n",
       "      <td>45.000000</td>\n",
       "      <td>40.000000</td>\n",
       "      <td>46.000000</td>\n",
       "      <td>47.000000</td>\n",
       "      <td>48.000000</td>\n",
       "      <td>39.000000</td>\n",
       "      <td>44.000000</td>\n",
       "      <td>47.000000</td>\n",
       "      <td>2011.000000</td>\n",
       "      <td>16.000000</td>\n",
       "    </tr>\n",
       "    <tr>\n",
       "      <th>50%</th>\n",
       "      <td>729.500000</td>\n",
       "      <td>485.000000</td>\n",
       "      <td>8674.000000</td>\n",
       "      <td>52.000000</td>\n",
       "      <td>50.000000</td>\n",
       "      <td>52.000000</td>\n",
       "      <td>53.000000</td>\n",
       "      <td>53.000000</td>\n",
       "      <td>45.000000</td>\n",
       "      <td>48.000000</td>\n",
       "      <td>52.000000</td>\n",
       "      <td>2013.000000</td>\n",
       "      <td>38.000000</td>\n",
       "    </tr>\n",
       "    <tr>\n",
       "      <th>75%</th>\n",
       "      <td>1093.750000</td>\n",
       "      <td>1900.000000</td>\n",
       "      <td>9904.000000</td>\n",
       "      <td>62.000000</td>\n",
       "      <td>55.000000</td>\n",
       "      <td>59.000000</td>\n",
       "      <td>62.000000</td>\n",
       "      <td>61.000000</td>\n",
       "      <td>51.000000</td>\n",
       "      <td>55.000000</td>\n",
       "      <td>58.000000</td>\n",
       "      <td>2014.000000</td>\n",
       "      <td>51.000000</td>\n",
       "    </tr>\n",
       "    <tr>\n",
       "      <th>max</th>\n",
       "      <td>1458.000000</td>\n",
       "      <td>112513.000000</td>\n",
       "      <td>274581.000000</td>\n",
       "      <td>80.000000</td>\n",
       "      <td>80.000000</td>\n",
       "      <td>80.000000</td>\n",
       "      <td>80.000000</td>\n",
       "      <td>80.000000</td>\n",
       "      <td>72.000000</td>\n",
       "      <td>72.000000</td>\n",
       "      <td>73.000000</td>\n",
       "      <td>2015.000000</td>\n",
       "      <td>121.000000</td>\n",
       "    </tr>\n",
       "  </tbody>\n",
       "</table>\n",
       "</div>"
      ],
      "text/plain": [
       "                id  team_fifa_api_id    team_api_id  buildUpPlaySpeed  \\\n",
       "count  1458.000000       1458.000000    1458.000000       1458.000000   \n",
       "mean    729.500000      17706.982167    9995.727023         52.462277   \n",
       "std     421.032659      39179.857739   13264.869900         11.545869   \n",
       "min       1.000000          1.000000    1601.000000         20.000000   \n",
       "25%     365.250000        110.000000    8457.750000         45.000000   \n",
       "50%     729.500000        485.000000    8674.000000         52.000000   \n",
       "75%    1093.750000       1900.000000    9904.000000         62.000000   \n",
       "max    1458.000000     112513.000000  274581.000000         80.000000   \n",
       "\n",
       "       buildUpPlayPassing  chanceCreationPassing  chanceCreationCrossing  \\\n",
       "count         1458.000000            1458.000000             1458.000000   \n",
       "mean            48.490398              52.165295               53.731824   \n",
       "std             10.896101              10.360793               11.086796   \n",
       "min             20.000000              21.000000               20.000000   \n",
       "25%             40.000000              46.000000               47.000000   \n",
       "50%             50.000000              52.000000               53.000000   \n",
       "75%             55.000000              59.000000               62.000000   \n",
       "max             80.000000              80.000000               80.000000   \n",
       "\n",
       "       chanceCreationShooting  defencePressure  defenceAggression  \\\n",
       "count             1458.000000      1458.000000        1458.000000   \n",
       "mean                53.969136        46.017147          49.251029   \n",
       "std                 10.327566        10.227225           9.738028   \n",
       "min                 22.000000        23.000000          24.000000   \n",
       "25%                 48.000000        39.000000          44.000000   \n",
       "50%                 53.000000        45.000000          48.000000   \n",
       "75%                 61.000000        51.000000          55.000000   \n",
       "max                 80.000000        72.000000          72.000000   \n",
       "\n",
       "       defenceTeamWidth         year   goals_year  \n",
       "count       1458.000000  1458.000000  1458.000000  \n",
       "mean          52.185871  2012.506859    35.185185  \n",
       "std            9.574712     1.709201    24.073155  \n",
       "min           29.000000  2010.000000     0.000000  \n",
       "25%           47.000000  2011.000000    16.000000  \n",
       "50%           52.000000  2013.000000    38.000000  \n",
       "75%           58.000000  2014.000000    51.000000  \n",
       "max           73.000000  2015.000000   121.000000  "
      ]
     },
     "execution_count": 8,
     "metadata": {},
     "output_type": "execute_result"
    }
   ],
   "source": [
    "team_df.describe()"
   ]
  },
  {
   "cell_type": "markdown",
   "metadata": {},
   "source": [
    "let's calculate the average for total goals scored for each team first "
   ]
  },
  {
   "cell_type": "code",
   "execution_count": 9,
   "metadata": {},
   "outputs": [],
   "source": [
    "mean = team_df['goals_year'].mean()"
   ]
  },
  {
   "cell_type": "code",
   "execution_count": 10,
   "metadata": {},
   "outputs": [],
   "source": [
    "### masking our dataframe with the above average  `goals_year` value\n",
    "above_av_scor = team_df[team_df['goals_year'] > mean]\n",
    "### masking our dataframe with the below average  `goals_year` value\n",
    "below_av_scor = team_df[team_df['goals_year'] < mean]"
   ]
  },
  {
   "cell_type": "markdown",
   "metadata": {},
   "source": [
    "let's check the `chanceCreationShooting` att. mean for each group"
   ]
  },
  {
   "cell_type": "code",
   "execution_count": 11,
   "metadata": {},
   "outputs": [
    {
     "data": {
      "text/plain": [
       "54.26422250316055"
      ]
     },
     "execution_count": 11,
     "metadata": {},
     "output_type": "execute_result"
    }
   ],
   "source": [
    "above_av_scor.chanceCreationShooting.mean()"
   ]
  },
  {
   "cell_type": "code",
   "execution_count": 12,
   "metadata": {},
   "outputs": [
    {
     "data": {
      "text/plain": [
       "53.6191904047976"
      ]
     },
     "execution_count": 12,
     "metadata": {},
     "output_type": "execute_result"
    }
   ],
   "source": [
    "below_av_scor.chanceCreationShooting.mean()"
   ]
  },
  {
   "cell_type": "markdown",
   "metadata": {},
   "source": [
    "----\n",
    "----"
   ]
  },
  {
   "cell_type": "markdown",
   "metadata": {},
   "source": [
    "let's check the `buildUpPlaySpeed` att. mean for each group"
   ]
  },
  {
   "cell_type": "code",
   "execution_count": 13,
   "metadata": {},
   "outputs": [
    {
     "data": {
      "text/plain": [
       "52.72566371681416"
      ]
     },
     "execution_count": 13,
     "metadata": {},
     "output_type": "execute_result"
    }
   ],
   "source": [
    "above_av_scor.buildUpPlaySpeed.mean()"
   ]
  },
  {
   "cell_type": "code",
   "execution_count": 14,
   "metadata": {},
   "outputs": [
    {
     "data": {
      "text/plain": [
       "52.14992503748126"
      ]
     },
     "execution_count": 14,
     "metadata": {},
     "output_type": "execute_result"
    }
   ],
   "source": [
    "below_av_scor.buildUpPlaySpeed.mean()"
   ]
  },
  {
   "cell_type": "markdown",
   "metadata": {},
   "source": [
    "----\n",
    "----"
   ]
  },
  {
   "cell_type": "markdown",
   "metadata": {},
   "source": [
    "let's check the `buildUpPlayPassing` att. mean for each group"
   ]
  },
  {
   "cell_type": "code",
   "execution_count": 15,
   "metadata": {},
   "outputs": [
    {
     "data": {
      "text/plain": [
       "47.22629582806574"
      ]
     },
     "execution_count": 15,
     "metadata": {},
     "output_type": "execute_result"
    }
   ],
   "source": [
    "above_av_scor.buildUpPlayPassing.mean()"
   ]
  },
  {
   "cell_type": "code",
   "execution_count": 16,
   "metadata": {},
   "outputs": [
    {
     "data": {
      "text/plain": [
       "49.989505247376314"
      ]
     },
     "execution_count": 16,
     "metadata": {},
     "output_type": "execute_result"
    }
   ],
   "source": [
    "below_av_scor.buildUpPlayPassing.mean()"
   ]
  },
  {
   "cell_type": "markdown",
   "metadata": {},
   "source": [
    "----\n",
    "----"
   ]
  },
  {
   "cell_type": "markdown",
   "metadata": {},
   "source": [
    "let's check the whole statistics for both group with the describe method"
   ]
  },
  {
   "cell_type": "code",
   "execution_count": 17,
   "metadata": {},
   "outputs": [
    {
     "data": {
      "text/html": [
       "<div>\n",
       "<style scoped>\n",
       "    .dataframe tbody tr th:only-of-type {\n",
       "        vertical-align: middle;\n",
       "    }\n",
       "\n",
       "    .dataframe tbody tr th {\n",
       "        vertical-align: top;\n",
       "    }\n",
       "\n",
       "    .dataframe thead th {\n",
       "        text-align: right;\n",
       "    }\n",
       "</style>\n",
       "<table border=\"1\" class=\"dataframe\">\n",
       "  <thead>\n",
       "    <tr style=\"text-align: right;\">\n",
       "      <th></th>\n",
       "      <th>id</th>\n",
       "      <th>team_fifa_api_id</th>\n",
       "      <th>team_api_id</th>\n",
       "      <th>buildUpPlaySpeed</th>\n",
       "      <th>buildUpPlayPassing</th>\n",
       "      <th>chanceCreationPassing</th>\n",
       "      <th>chanceCreationCrossing</th>\n",
       "      <th>chanceCreationShooting</th>\n",
       "      <th>defencePressure</th>\n",
       "      <th>defenceAggression</th>\n",
       "      <th>defenceTeamWidth</th>\n",
       "      <th>year</th>\n",
       "      <th>goals_year</th>\n",
       "    </tr>\n",
       "  </thead>\n",
       "  <tbody>\n",
       "    <tr>\n",
       "      <th>count</th>\n",
       "      <td>791.000000</td>\n",
       "      <td>791.000000</td>\n",
       "      <td>791.000000</td>\n",
       "      <td>791.000000</td>\n",
       "      <td>791.000000</td>\n",
       "      <td>791.000000</td>\n",
       "      <td>791.000000</td>\n",
       "      <td>791.000000</td>\n",
       "      <td>791.000000</td>\n",
       "      <td>791.000000</td>\n",
       "      <td>791.000000</td>\n",
       "      <td>791.000000</td>\n",
       "      <td>791.000000</td>\n",
       "    </tr>\n",
       "    <tr>\n",
       "      <th>mean</th>\n",
       "      <td>744.677623</td>\n",
       "      <td>12285.932996</td>\n",
       "      <td>9038.158028</td>\n",
       "      <td>52.725664</td>\n",
       "      <td>47.226296</td>\n",
       "      <td>52.625790</td>\n",
       "      <td>54.466498</td>\n",
       "      <td>54.264223</td>\n",
       "      <td>47.017699</td>\n",
       "      <td>49.778761</td>\n",
       "      <td>52.227560</td>\n",
       "      <td>2012.515803</td>\n",
       "      <td>53.340076</td>\n",
       "    </tr>\n",
       "    <tr>\n",
       "      <th>std</th>\n",
       "      <td>424.193416</td>\n",
       "      <td>33231.993313</td>\n",
       "      <td>1380.928796</td>\n",
       "      <td>11.861621</td>\n",
       "      <td>10.983676</td>\n",
       "      <td>10.697168</td>\n",
       "      <td>11.205608</td>\n",
       "      <td>10.834531</td>\n",
       "      <td>10.321279</td>\n",
       "      <td>9.851446</td>\n",
       "      <td>9.543441</td>\n",
       "      <td>1.713518</td>\n",
       "      <td>14.513439</td>\n",
       "    </tr>\n",
       "    <tr>\n",
       "      <th>min</th>\n",
       "      <td>2.000000</td>\n",
       "      <td>1.000000</td>\n",
       "      <td>1601.000000</td>\n",
       "      <td>20.000000</td>\n",
       "      <td>20.000000</td>\n",
       "      <td>21.000000</td>\n",
       "      <td>20.000000</td>\n",
       "      <td>22.000000</td>\n",
       "      <td>23.000000</td>\n",
       "      <td>24.000000</td>\n",
       "      <td>30.000000</td>\n",
       "      <td>2010.000000</td>\n",
       "      <td>36.000000</td>\n",
       "    </tr>\n",
       "    <tr>\n",
       "      <th>25%</th>\n",
       "      <td>405.500000</td>\n",
       "      <td>70.000000</td>\n",
       "      <td>8529.500000</td>\n",
       "      <td>45.000000</td>\n",
       "      <td>38.000000</td>\n",
       "      <td>47.000000</td>\n",
       "      <td>48.000000</td>\n",
       "      <td>48.000000</td>\n",
       "      <td>40.000000</td>\n",
       "      <td>44.000000</td>\n",
       "      <td>47.000000</td>\n",
       "      <td>2011.000000</td>\n",
       "      <td>43.000000</td>\n",
       "    </tr>\n",
       "    <tr>\n",
       "      <th>50%</th>\n",
       "      <td>771.000000</td>\n",
       "      <td>379.000000</td>\n",
       "      <td>8721.000000</td>\n",
       "      <td>53.000000</td>\n",
       "      <td>48.000000</td>\n",
       "      <td>52.000000</td>\n",
       "      <td>54.000000</td>\n",
       "      <td>54.000000</td>\n",
       "      <td>46.000000</td>\n",
       "      <td>49.000000</td>\n",
       "      <td>52.000000</td>\n",
       "      <td>2012.000000</td>\n",
       "      <td>49.000000</td>\n",
       "    </tr>\n",
       "    <tr>\n",
       "      <th>75%</th>\n",
       "      <td>1124.500000</td>\n",
       "      <td>1860.000000</td>\n",
       "      <td>9927.000000</td>\n",
       "      <td>63.000000</td>\n",
       "      <td>54.000000</td>\n",
       "      <td>60.000000</td>\n",
       "      <td>64.000000</td>\n",
       "      <td>63.000000</td>\n",
       "      <td>55.000000</td>\n",
       "      <td>57.000000</td>\n",
       "      <td>59.000000</td>\n",
       "      <td>2014.000000</td>\n",
       "      <td>60.000000</td>\n",
       "    </tr>\n",
       "    <tr>\n",
       "      <th>max</th>\n",
       "      <td>1458.000000</td>\n",
       "      <td>111974.000000</td>\n",
       "      <td>10281.000000</td>\n",
       "      <td>78.000000</td>\n",
       "      <td>80.000000</td>\n",
       "      <td>80.000000</td>\n",
       "      <td>80.000000</td>\n",
       "      <td>80.000000</td>\n",
       "      <td>72.000000</td>\n",
       "      <td>72.000000</td>\n",
       "      <td>73.000000</td>\n",
       "      <td>2015.000000</td>\n",
       "      <td>121.000000</td>\n",
       "    </tr>\n",
       "  </tbody>\n",
       "</table>\n",
       "</div>"
      ],
      "text/plain": [
       "                id  team_fifa_api_id   team_api_id  buildUpPlaySpeed  \\\n",
       "count   791.000000        791.000000    791.000000        791.000000   \n",
       "mean    744.677623      12285.932996   9038.158028         52.725664   \n",
       "std     424.193416      33231.993313   1380.928796         11.861621   \n",
       "min       2.000000          1.000000   1601.000000         20.000000   \n",
       "25%     405.500000         70.000000   8529.500000         45.000000   \n",
       "50%     771.000000        379.000000   8721.000000         53.000000   \n",
       "75%    1124.500000       1860.000000   9927.000000         63.000000   \n",
       "max    1458.000000     111974.000000  10281.000000         78.000000   \n",
       "\n",
       "       buildUpPlayPassing  chanceCreationPassing  chanceCreationCrossing  \\\n",
       "count          791.000000             791.000000              791.000000   \n",
       "mean            47.226296              52.625790               54.466498   \n",
       "std             10.983676              10.697168               11.205608   \n",
       "min             20.000000              21.000000               20.000000   \n",
       "25%             38.000000              47.000000               48.000000   \n",
       "50%             48.000000              52.000000               54.000000   \n",
       "75%             54.000000              60.000000               64.000000   \n",
       "max             80.000000              80.000000               80.000000   \n",
       "\n",
       "       chanceCreationShooting  defencePressure  defenceAggression  \\\n",
       "count              791.000000       791.000000         791.000000   \n",
       "mean                54.264223        47.017699          49.778761   \n",
       "std                 10.834531        10.321279           9.851446   \n",
       "min                 22.000000        23.000000          24.000000   \n",
       "25%                 48.000000        40.000000          44.000000   \n",
       "50%                 54.000000        46.000000          49.000000   \n",
       "75%                 63.000000        55.000000          57.000000   \n",
       "max                 80.000000        72.000000          72.000000   \n",
       "\n",
       "       defenceTeamWidth         year  goals_year  \n",
       "count        791.000000   791.000000  791.000000  \n",
       "mean          52.227560  2012.515803   53.340076  \n",
       "std            9.543441     1.713518   14.513439  \n",
       "min           30.000000  2010.000000   36.000000  \n",
       "25%           47.000000  2011.000000   43.000000  \n",
       "50%           52.000000  2012.000000   49.000000  \n",
       "75%           59.000000  2014.000000   60.000000  \n",
       "max           73.000000  2015.000000  121.000000  "
      ]
     },
     "execution_count": 17,
     "metadata": {},
     "output_type": "execute_result"
    }
   ],
   "source": [
    "above_av_scor.describe()"
   ]
  },
  {
   "cell_type": "code",
   "execution_count": 18,
   "metadata": {
    "collapsed": true
   },
   "outputs": [
    {
     "data": {
      "text/html": [
       "<div>\n",
       "<style scoped>\n",
       "    .dataframe tbody tr th:only-of-type {\n",
       "        vertical-align: middle;\n",
       "    }\n",
       "\n",
       "    .dataframe tbody tr th {\n",
       "        vertical-align: top;\n",
       "    }\n",
       "\n",
       "    .dataframe thead th {\n",
       "        text-align: right;\n",
       "    }\n",
       "</style>\n",
       "<table border=\"1\" class=\"dataframe\">\n",
       "  <thead>\n",
       "    <tr style=\"text-align: right;\">\n",
       "      <th></th>\n",
       "      <th>id</th>\n",
       "      <th>team_fifa_api_id</th>\n",
       "      <th>team_api_id</th>\n",
       "      <th>buildUpPlaySpeed</th>\n",
       "      <th>buildUpPlayPassing</th>\n",
       "      <th>chanceCreationPassing</th>\n",
       "      <th>chanceCreationCrossing</th>\n",
       "      <th>chanceCreationShooting</th>\n",
       "      <th>defencePressure</th>\n",
       "      <th>defenceAggression</th>\n",
       "      <th>defenceTeamWidth</th>\n",
       "      <th>year</th>\n",
       "      <th>goals_year</th>\n",
       "    </tr>\n",
       "  </thead>\n",
       "  <tbody>\n",
       "    <tr>\n",
       "      <th>count</th>\n",
       "      <td>667.000000</td>\n",
       "      <td>667.000000</td>\n",
       "      <td>667.000000</td>\n",
       "      <td>667.000000</td>\n",
       "      <td>667.000000</td>\n",
       "      <td>667.00000</td>\n",
       "      <td>667.000000</td>\n",
       "      <td>667.000000</td>\n",
       "      <td>667.000000</td>\n",
       "      <td>667.000000</td>\n",
       "      <td>667.000000</td>\n",
       "      <td>667.000000</td>\n",
       "      <td>667.000000</td>\n",
       "    </tr>\n",
       "    <tr>\n",
       "      <th>mean</th>\n",
       "      <td>711.500750</td>\n",
       "      <td>24135.842579</td>\n",
       "      <td>11131.314843</td>\n",
       "      <td>52.149925</td>\n",
       "      <td>49.989505</td>\n",
       "      <td>51.61919</td>\n",
       "      <td>52.860570</td>\n",
       "      <td>53.619190</td>\n",
       "      <td>44.830585</td>\n",
       "      <td>48.625187</td>\n",
       "      <td>52.136432</td>\n",
       "      <td>2012.496252</td>\n",
       "      <td>13.655172</td>\n",
       "    </tr>\n",
       "    <tr>\n",
       "      <th>std</th>\n",
       "      <td>416.854474</td>\n",
       "      <td>44406.709437</td>\n",
       "      <td>19501.177393</td>\n",
       "      <td>11.160648</td>\n",
       "      <td>10.605747</td>\n",
       "      <td>9.92746</td>\n",
       "      <td>10.888462</td>\n",
       "      <td>9.688487</td>\n",
       "      <td>9.993080</td>\n",
       "      <td>9.571471</td>\n",
       "      <td>9.618596</td>\n",
       "      <td>1.705291</td>\n",
       "      <td>12.737515</td>\n",
       "    </tr>\n",
       "    <tr>\n",
       "      <th>min</th>\n",
       "      <td>1.000000</td>\n",
       "      <td>2.000000</td>\n",
       "      <td>1601.000000</td>\n",
       "      <td>20.000000</td>\n",
       "      <td>23.000000</td>\n",
       "      <td>28.00000</td>\n",
       "      <td>20.000000</td>\n",
       "      <td>23.000000</td>\n",
       "      <td>23.000000</td>\n",
       "      <td>24.000000</td>\n",
       "      <td>29.000000</td>\n",
       "      <td>2010.000000</td>\n",
       "      <td>0.000000</td>\n",
       "    </tr>\n",
       "    <tr>\n",
       "      <th>25%</th>\n",
       "      <td>342.500000</td>\n",
       "      <td>226.000000</td>\n",
       "      <td>8350.000000</td>\n",
       "      <td>45.000000</td>\n",
       "      <td>43.000000</td>\n",
       "      <td>45.50000</td>\n",
       "      <td>45.000000</td>\n",
       "      <td>48.000000</td>\n",
       "      <td>38.000000</td>\n",
       "      <td>44.000000</td>\n",
       "      <td>48.000000</td>\n",
       "      <td>2011.000000</td>\n",
       "      <td>0.000000</td>\n",
       "    </tr>\n",
       "    <tr>\n",
       "      <th>50%</th>\n",
       "      <td>689.000000</td>\n",
       "      <td>1738.000000</td>\n",
       "      <td>8603.000000</td>\n",
       "      <td>52.000000</td>\n",
       "      <td>50.000000</td>\n",
       "      <td>52.00000</td>\n",
       "      <td>53.000000</td>\n",
       "      <td>53.000000</td>\n",
       "      <td>45.000000</td>\n",
       "      <td>48.000000</td>\n",
       "      <td>52.000000</td>\n",
       "      <td>2013.000000</td>\n",
       "      <td>14.000000</td>\n",
       "    </tr>\n",
       "    <tr>\n",
       "      <th>75%</th>\n",
       "      <td>1045.500000</td>\n",
       "      <td>1956.000000</td>\n",
       "      <td>9868.000000</td>\n",
       "      <td>60.000000</td>\n",
       "      <td>56.000000</td>\n",
       "      <td>56.00000</td>\n",
       "      <td>61.000000</td>\n",
       "      <td>60.000000</td>\n",
       "      <td>50.000000</td>\n",
       "      <td>54.000000</td>\n",
       "      <td>58.000000</td>\n",
       "      <td>2014.000000</td>\n",
       "      <td>25.000000</td>\n",
       "    </tr>\n",
       "    <tr>\n",
       "      <th>max</th>\n",
       "      <td>1457.000000</td>\n",
       "      <td>112513.000000</td>\n",
       "      <td>274581.000000</td>\n",
       "      <td>80.000000</td>\n",
       "      <td>79.000000</td>\n",
       "      <td>77.00000</td>\n",
       "      <td>77.000000</td>\n",
       "      <td>78.000000</td>\n",
       "      <td>70.000000</td>\n",
       "      <td>70.000000</td>\n",
       "      <td>70.000000</td>\n",
       "      <td>2015.000000</td>\n",
       "      <td>35.000000</td>\n",
       "    </tr>\n",
       "  </tbody>\n",
       "</table>\n",
       "</div>"
      ],
      "text/plain": [
       "                id  team_fifa_api_id    team_api_id  buildUpPlaySpeed  \\\n",
       "count   667.000000        667.000000     667.000000        667.000000   \n",
       "mean    711.500750      24135.842579   11131.314843         52.149925   \n",
       "std     416.854474      44406.709437   19501.177393         11.160648   \n",
       "min       1.000000          2.000000    1601.000000         20.000000   \n",
       "25%     342.500000        226.000000    8350.000000         45.000000   \n",
       "50%     689.000000       1738.000000    8603.000000         52.000000   \n",
       "75%    1045.500000       1956.000000    9868.000000         60.000000   \n",
       "max    1457.000000     112513.000000  274581.000000         80.000000   \n",
       "\n",
       "       buildUpPlayPassing  chanceCreationPassing  chanceCreationCrossing  \\\n",
       "count          667.000000              667.00000              667.000000   \n",
       "mean            49.989505               51.61919               52.860570   \n",
       "std             10.605747                9.92746               10.888462   \n",
       "min             23.000000               28.00000               20.000000   \n",
       "25%             43.000000               45.50000               45.000000   \n",
       "50%             50.000000               52.00000               53.000000   \n",
       "75%             56.000000               56.00000               61.000000   \n",
       "max             79.000000               77.00000               77.000000   \n",
       "\n",
       "       chanceCreationShooting  defencePressure  defenceAggression  \\\n",
       "count              667.000000       667.000000         667.000000   \n",
       "mean                53.619190        44.830585          48.625187   \n",
       "std                  9.688487         9.993080           9.571471   \n",
       "min                 23.000000        23.000000          24.000000   \n",
       "25%                 48.000000        38.000000          44.000000   \n",
       "50%                 53.000000        45.000000          48.000000   \n",
       "75%                 60.000000        50.000000          54.000000   \n",
       "max                 78.000000        70.000000          70.000000   \n",
       "\n",
       "       defenceTeamWidth         year  goals_year  \n",
       "count        667.000000   667.000000  667.000000  \n",
       "mean          52.136432  2012.496252   13.655172  \n",
       "std            9.618596     1.705291   12.737515  \n",
       "min           29.000000  2010.000000    0.000000  \n",
       "25%           48.000000  2011.000000    0.000000  \n",
       "50%           52.000000  2013.000000   14.000000  \n",
       "75%           58.000000  2014.000000   25.000000  \n",
       "max           70.000000  2015.000000   35.000000  "
      ]
     },
     "execution_count": 18,
     "metadata": {},
     "output_type": "execute_result"
    }
   ],
   "source": [
    "below_av_scor.describe()"
   ]
  },
  {
   "cell_type": "markdown",
   "metadata": {},
   "source": [
    "from my point of view seems like all attributes are related to most score except the `buildUpPlayPassing` att. "
   ]
  },
  {
   "cell_type": "code",
   "execution_count": 62,
   "metadata": {
    "collapsed": true
   },
   "outputs": [
    {
     "data": {
      "image/png": "[encoded data removed]",
      "text/plain": [
       "<Figure size 504x504 with 1 Axes>"
      ]
     },
     "metadata": {
      "needs_background": "light"
     },
     "output_type": "display_data"
    }
   ],
   "source": [
    "above_av_scor.buildUpPlayPassing.hist(figsize = (7,7),alpha = .5 , label = 'teams score above averge')\n",
    "below_av_scor.buildUpPlayPassing.hist(figsize = (7,7),alpha = .5 , label = 'teams score below averge');\n",
    "plt.legend();"
   ]
  },
  {
   "cell_type": "markdown",
   "metadata": {},
   "source": [
    "---\n",
    "----"
   ]
  },
  {
   "cell_type": "markdown",
   "metadata": {},
   "source": [
    "### (Research Question 2) What are the top 5 teams that improved the most over the time period ? "
   ]
  },
  {
   "cell_type": "markdown",
   "metadata": {},
   "source": [
    "  ##### there are many attributes in which teams can improve \n",
    "  \n",
    "  - we will make an assumed index to be applied on every team which is conceived from teams attributes \n",
    "  - will save the output of this in an additional column `points` which is only related to our EDA phase to use in further questions too"
   ]
  },
  {
   "cell_type": "markdown",
   "metadata": {},
   "source": [
    "----"
   ]
  },
  {
   "cell_type": "markdown",
   "metadata": {},
   "source": [
    "note : this index does not really exist in real life and it's only manufactured for the purpose of my personal EDA ..though i find it very expressing \n",
    "\n",
    "##### assumed index  (how it works) :\n",
    "\n",
    "- first the score from  `goals_year` is going to have the biggest portion of the index's output (%50)\n",
    "    - that of course because goals depend on the factor of luck too so i think (%50) of the index's output is enough\n",
    "- some of the other att. in the data will share equally the remaining (%50)"
   ]
  },
  {
   "cell_type": "code",
   "execution_count": 19,
   "metadata": {
    "collapsed": true
   },
   "outputs": [
    {
     "name": "stdout",
     "output_type": "stream",
     "text": [
      "<class 'pandas.core.frame.DataFrame'>\n",
      "RangeIndex: 1458 entries, 0 to 1457\n",
      "Data columns (total 28 columns):\n",
      " #   Column                          Non-Null Count  Dtype \n",
      "---  ------                          --------------  ----- \n",
      " 0   id                              1458 non-null   int64 \n",
      " 1   team_fifa_api_id                1458 non-null   int64 \n",
      " 2   team_api_id                     1458 non-null   int64 \n",
      " 3   date                            1458 non-null   object\n",
      " 4   buildUpPlaySpeed                1458 non-null   int64 \n",
      " 5   buildUpPlaySpeedClass           1458 non-null   object\n",
      " 6   buildUpPlayDribblingClass       1458 non-null   object\n",
      " 7   buildUpPlayPassing              1458 non-null   int64 \n",
      " 8   buildUpPlayPassingClass         1458 non-null   object\n",
      " 9   buildUpPlayPositioningClass     1458 non-null   object\n",
      " 10  chanceCreationPassing           1458 non-null   int64 \n",
      " 11  chanceCreationPassingClass      1458 non-null   object\n",
      " 12  chanceCreationCrossing          1458 non-null   int64 \n",
      " 13  chanceCreationCrossingClass     1458 non-null   object\n",
      " 14  chanceCreationShooting          1458 non-null   int64 \n",
      " 15  chanceCreationShootingClass     1458 non-null   object\n",
      " 16  chanceCreationPositioningClass  1458 non-null   object\n",
      " 17  defencePressure                 1458 non-null   int64 \n",
      " 18  defencePressureClass            1458 non-null   object\n",
      " 19  defenceAggression               1458 non-null   int64 \n",
      " 20  defenceAggressionClass          1458 non-null   object\n",
      " 21  defenceTeamWidth                1458 non-null   int64 \n",
      " 22  defenceTeamWidthClass           1458 non-null   object\n",
      " 23  defenceDefenderLineClass        1458 non-null   object\n",
      " 24  team_long_name                  1458 non-null   object\n",
      " 25  team_short_name                 1458 non-null   object\n",
      " 26  year                            1458 non-null   int64 \n",
      " 27  goals_year                      1458 non-null   int64 \n",
      "dtypes: int64(13), object(15)\n",
      "memory usage: 319.1+ KB\n"
     ]
    }
   ],
   "source": [
    "team_df.info()"
   ]
  },
  {
   "cell_type": "code",
   "execution_count": 20,
   "metadata": {
    "collapsed": true
   },
   "outputs": [
    {
     "name": "stdout",
     "output_type": "stream",
     "text": [
      "1458    1\n",
      "479     1\n",
      "481     1\n",
      "482     1\n",
      "483     1\n",
      "       ..\n",
      "974     1\n",
      "975     1\n",
      "976     1\n",
      "977     1\n",
      "1       1\n",
      "Name: id, Length: 1458, dtype: int64\n",
      "301       8\n",
      "110569    6\n",
      "247       6\n",
      "245       6\n",
      "244       6\n",
      "         ..\n",
      "100646    1\n",
      "182       1\n",
      "100741    1\n",
      "546       1\n",
      "1898      1\n",
      "Name: team_fifa_api_id, Length: 285, dtype: int64\n",
      "8191    6\n",
      "8602    6\n",
      "8658    6\n",
      "8655    6\n",
      "8654    6\n",
      "       ..\n",
      "8457    1\n",
      "6631    1\n",
      "8596    1\n",
      "6547    1\n",
      "9824    1\n",
      "Name: team_api_id, Length: 288, dtype: int64\n",
      "2015-09-10 00:00:00    245\n",
      "2011-02-22 00:00:00    244\n",
      "2014-09-19 00:00:00    244\n",
      "2012-02-22 00:00:00    242\n",
      "2013-09-20 00:00:00    242\n",
      "2010-02-22 00:00:00    241\n",
      "Name: date, dtype: int64\n",
      "50    96\n",
      "30    70\n",
      "55    67\n",
      "45    66\n",
      "65    64\n",
      "70    63\n",
      "52    62\n",
      "60    59\n",
      "48    53\n",
      "53    47\n",
      "47    42\n",
      "49    40\n",
      "54    39\n",
      "35    39\n",
      "67    39\n",
      "58    38\n",
      "66    38\n",
      "46    38\n",
      "64    37\n",
      "63    36\n",
      "40    33\n",
      "59    29\n",
      "38    27\n",
      "61    26\n",
      "57    26\n",
      "51    24\n",
      "56    24\n",
      "62    24\n",
      "68    22\n",
      "42    18\n",
      "41    18\n",
      "44    15\n",
      "69    13\n",
      "36    13\n",
      "34    12\n",
      "43    12\n",
      "39    12\n",
      "37    10\n",
      "33     9\n",
      "75     8\n",
      "73     7\n",
      "72     6\n",
      "71     6\n",
      "31     4\n",
      "25     4\n",
      "24     3\n",
      "32     3\n",
      "20     3\n",
      "76     3\n",
      "78     2\n",
      "29     2\n",
      "26     2\n",
      "74     1\n",
      "28     1\n",
      "77     1\n",
      "23     1\n",
      "80     1\n",
      "Name: buildUpPlaySpeed, dtype: int64\n",
      "Balanced    1184\n",
      "Fast         172\n",
      "Slow         102\n",
      "Name: buildUpPlaySpeedClass, dtype: int64\n",
      "Little    1004\n",
      "Normal     433\n",
      "Lots        21\n",
      "Name: buildUpPlayDribblingClass, dtype: int64\n",
      "50    118\n",
      "30     81\n",
      "52     75\n",
      "55     69\n",
      "35     65\n",
      "48     62\n",
      "54     59\n",
      "40     58\n",
      "45     58\n",
      "53     51\n",
      "38     44\n",
      "70     43\n",
      "44     40\n",
      "49     37\n",
      "51     36\n",
      "65     35\n",
      "60     33\n",
      "47     31\n",
      "37     31\n",
      "56     30\n",
      "57     29\n",
      "46     29\n",
      "39     28\n",
      "36     28\n",
      "41     27\n",
      "43     26\n",
      "42     21\n",
      "62     21\n",
      "58     19\n",
      "59     17\n",
      "67     14\n",
      "66     13\n",
      "33     13\n",
      "64     12\n",
      "34     12\n",
      "63     11\n",
      "32     11\n",
      "61     11\n",
      "69     10\n",
      "72      9\n",
      "73      6\n",
      "29      4\n",
      "68      4\n",
      "27      3\n",
      "75      3\n",
      "23      3\n",
      "26      3\n",
      "25      2\n",
      "31      2\n",
      "28      2\n",
      "24      2\n",
      "22      1\n",
      "80      1\n",
      "79      1\n",
      "71      1\n",
      "74      1\n",
      "77      1\n",
      "20      1\n",
      "Name: buildUpPlayPassing, dtype: int64\n",
      "Mixed    1236\n",
      "Short     128\n",
      "Long       94\n",
      "Name: buildUpPlayPassingClass, dtype: int64\n",
      "Organised    1386\n",
      "Free Form      72\n",
      "Name: buildUpPlayPositioningClass, dtype: int64\n",
      "50    109\n",
      "55     94\n",
      "52     90\n",
      "53     76\n",
      "48     71\n",
      "49     68\n",
      "45     61\n",
      "70     60\n",
      "65     49\n",
      "54     48\n",
      "60     47\n",
      "56     43\n",
      "40     41\n",
      "47     40\n",
      "35     40\n",
      "67     35\n",
      "68     34\n",
      "30     33\n",
      "38     32\n",
      "51     31\n",
      "66     28\n",
      "62     24\n",
      "57     23\n",
      "59     22\n",
      "42     21\n",
      "37     20\n",
      "39     20\n",
      "46     17\n",
      "58     17\n",
      "44     16\n",
      "41     15\n",
      "63     15\n",
      "69     15\n",
      "64     14\n",
      "43     13\n",
      "36     10\n",
      "72     10\n",
      "32      8\n",
      "34      8\n",
      "61      8\n",
      "71      7\n",
      "33      6\n",
      "77      5\n",
      "28      4\n",
      "73      3\n",
      "31      3\n",
      "29      1\n",
      "80      1\n",
      "76      1\n",
      "21      1\n",
      "Name: chanceCreationPassing, dtype: int64\n",
      "Normal    1231\n",
      "Risky      171\n",
      "Safe        56\n",
      "Name: chanceCreationPassingClass, dtype: int64\n",
      "50    113\n",
      "70     78\n",
      "52     77\n",
      "53     69\n",
      "65     67\n",
      "54     63\n",
      "60     61\n",
      "55     51\n",
      "40     48\n",
      "66     43\n",
      "48     41\n",
      "45     40\n",
      "51     39\n",
      "49     37\n",
      "35     34\n",
      "67     33\n",
      "56     33\n",
      "62     32\n",
      "44     31\n",
      "58     30\n",
      "68     30\n",
      "42     28\n",
      "61     27\n",
      "57     27\n",
      "59     25\n",
      "64     24\n",
      "47     21\n",
      "30     20\n",
      "63     19\n",
      "34     18\n",
      "38     18\n",
      "37     17\n",
      "69     17\n",
      "43     16\n",
      "72     15\n",
      "36     14\n",
      "33     12\n",
      "39     12\n",
      "46     10\n",
      "41     10\n",
      "73      9\n",
      "71      7\n",
      "31      7\n",
      "76      6\n",
      "74      5\n",
      "78      4\n",
      "77      3\n",
      "25      3\n",
      "26      2\n",
      "27      2\n",
      "80      2\n",
      "32      2\n",
      "75      2\n",
      "20      2\n",
      "24      1\n",
      "23      1\n",
      "Name: chanceCreationCrossing, dtype: int64\n",
      "Normal    1195\n",
      "Lots       211\n",
      "Little      52\n",
      "Name: chanceCreationCrossingClass, dtype: int64\n",
      "50    127\n",
      "70     98\n",
      "52     95\n",
      "55     91\n",
      "60     82\n",
      "53     74\n",
      "65     67\n",
      "54     65\n",
      "48     47\n",
      "46     44\n",
      "56     42\n",
      "49     40\n",
      "64     33\n",
      "57     29\n",
      "51     28\n",
      "68     26\n",
      "66     26\n",
      "47     25\n",
      "40     25\n",
      "37     25\n",
      "67     24\n",
      "45     24\n",
      "58     22\n",
      "35     22\n",
      "39     20\n",
      "42     20\n",
      "59     19\n",
      "38     18\n",
      "61     17\n",
      "63     17\n",
      "44     17\n",
      "62     16\n",
      "34     14\n",
      "69     13\n",
      "41     13\n",
      "36     12\n",
      "72     11\n",
      "32     10\n",
      "30      9\n",
      "43      8\n",
      "73      6\n",
      "31      4\n",
      "23      4\n",
      "80      4\n",
      "71      4\n",
      "75      4\n",
      "33      3\n",
      "79      2\n",
      "29      2\n",
      "28      2\n",
      "78      2\n",
      "74      1\n",
      "76      1\n",
      "77      1\n",
      "27      1\n",
      "24      1\n",
      "22      1\n",
      "Name: chanceCreationShooting, dtype: int64\n",
      "Normal    1224\n",
      "Lots       197\n",
      "Little      37\n",
      "Name: chanceCreationShootingClass, dtype: int64\n",
      "Organised    1309\n",
      "Free Form     149\n",
      "Name: chanceCreationPositioningClass, dtype: int64\n",
      "45    110\n",
      "47     92\n",
      "30     81\n",
      "50     72\n",
      "48     59\n",
      "43     59\n",
      "46     56\n",
      "49     56\n",
      "35     56\n",
      "40     55\n",
      "70     54\n",
      "39     49\n",
      "60     47\n",
      "44     45\n",
      "37     44\n",
      "42     42\n",
      "38     42\n",
      "36     42\n",
      "55     41\n",
      "58     36\n",
      "51     29\n",
      "59     28\n",
      "57     24\n",
      "65     22\n",
      "52     22\n",
      "41     20\n",
      "33     19\n",
      "54     18\n",
      "34     17\n",
      "53     15\n",
      "32     12\n",
      "61     11\n",
      "25     11\n",
      "56     10\n",
      "63      8\n",
      "64      8\n",
      "29      8\n",
      "31      6\n",
      "23      5\n",
      "62      5\n",
      "68      5\n",
      "66      3\n",
      "28      3\n",
      "27      3\n",
      "26      3\n",
      "24      3\n",
      "67      1\n",
      "72      1\n",
      "Name: defencePressure, dtype: int64\n",
      "Medium    1243\n",
      "Deep       154\n",
      "High        61\n",
      "Name: defencePressureClass, dtype: int64\n",
      "45    130\n",
      "47     88\n",
      "70     85\n",
      "50     85\n",
      "55     73\n",
      "44     70\n",
      "48     68\n",
      "30     62\n",
      "60     61\n",
      "43     60\n",
      "49     54\n",
      "46     51\n",
      "52     48\n",
      "58     41\n",
      "40     39\n",
      "57     38\n",
      "42     36\n",
      "51     36\n",
      "53     31\n",
      "65     30\n",
      "56     27\n",
      "41     26\n",
      "54     23\n",
      "37     23\n",
      "34     23\n",
      "39     21\n",
      "38     20\n",
      "59     20\n",
      "35     16\n",
      "62     12\n",
      "63      7\n",
      "61      7\n",
      "67      7\n",
      "32      7\n",
      "66      6\n",
      "33      5\n",
      "31      4\n",
      "68      4\n",
      "24      3\n",
      "36      2\n",
      "64      2\n",
      "28      2\n",
      "71      1\n",
      "69      1\n",
      "29      1\n",
      "27      1\n",
      "72      1\n",
      "Name: defenceAggression, dtype: int64\n",
      "Press      1274\n",
      "Double       99\n",
      "Contain      85\n",
      "Name: defenceAggressionClass, dtype: int64\n",
      "50    142\n",
      "52    100\n",
      "53     76\n",
      "55     75\n",
      "70     71\n",
      "65     71\n",
      "49     62\n",
      "51     61\n",
      "54     58\n",
      "48     57\n",
      "30     53\n",
      "47     45\n",
      "60     45\n",
      "45     45\n",
      "62     35\n",
      "57     35\n",
      "56     35\n",
      "40     33\n",
      "58     31\n",
      "35     28\n",
      "46     27\n",
      "44     25\n",
      "59     23\n",
      "39     23\n",
      "63     20\n",
      "64     19\n",
      "61     19\n",
      "68     17\n",
      "67     17\n",
      "42     17\n",
      "66     16\n",
      "41     15\n",
      "38     13\n",
      "37     13\n",
      "36      9\n",
      "34      7\n",
      "43      6\n",
      "69      5\n",
      "33      3\n",
      "32      3\n",
      "73      1\n",
      "31      1\n",
      "29      1\n",
      "Name: defenceTeamWidth, dtype: int64\n",
      "Normal    1286\n",
      "Wide       111\n",
      "Narrow      61\n",
      "Name: defenceTeamWidthClass, dtype: int64\n",
      "Cover           1362\n",
      "Offside Trap      96\n",
      "Name: defenceDefenderLineClass, dtype: int64\n",
      "Widzew Łódź                8\n",
      "Korona Kielce              6\n",
      "Grasshopper Club Zürich    6\n",
      "Cesena                     6\n",
      "1. FC Nürnberg             6\n",
      "                          ..\n",
      "KAS Eupen                  1\n",
      "Leixões SC                 1\n",
      "Boavista FC                1\n",
      "KSV Roeselare              1\n",
      "Sparta Rotterdam           1\n",
      "Name: team_long_name, Length: 285, dtype: int64\n",
      "GEN    18\n",
      "VAL    18\n",
      "MON    15\n",
      "GRA    13\n",
      "MAL    12\n",
      "       ..\n",
      "PEN     1\n",
      "SPA     1\n",
      "VAD     1\n",
      "DAR     1\n",
      "MOP     1\n",
      "Name: team_short_name, Length: 251, dtype: int64\n",
      "2015    245\n",
      "2014    244\n",
      "2011    244\n",
      "2013    242\n",
      "2012    242\n",
      "2010    241\n",
      "Name: year, dtype: int64\n",
      "0      263\n",
      "47      43\n",
      "43      33\n",
      "37      33\n",
      "42      31\n",
      "      ... \n",
      "88       1\n",
      "85       1\n",
      "83       1\n",
      "119      1\n",
      "121      1\n",
      "Name: goals_year, Length: 105, dtype: int64\n"
     ]
    }
   ],
   "source": [
    "for colu in team_df.columns:\n",
    "    print(team_df[colu].value_counts())"
   ]
  },
  {
   "cell_type": "markdown",
   "metadata": {},
   "source": [
    "After checking value counts of all those columns i (assumed) that there are att. can directly affect the team performance and others that do not \n",
    "\n",
    "note : columns with the word 'class' will not be most suitable for usage in our index ..especially most of them do not have a numeric(int,float) value to be calculated \n",
    "\n",
    "---\n",
    "we will avoid the 'class' type columns as possible\n",
    "\n",
    "---\n",
    "\n",
    "attributes that affect performance dirctly & positively:\n",
    "\n",
    "- buildUpPlaySpeed\n",
    "- chanceCreationPassing\n",
    "- chanceCreationCrossing\n",
    "- chanceCreationShooting\n",
    "- defencePressure"
   ]
  },
  {
   "cell_type": "markdown",
   "metadata": {},
   "source": [
    "attributes  that assumably do not affect  performance dirctly:\n",
    "\n",
    "- defenceAggression\n",
    "- defenceTeamWidth\n",
    "\n",
    "we will exclude those from our index \n"
   ]
  },
  {
   "cell_type": "markdown",
   "metadata": {},
   "source": [
    "##### preparing for the index output  >>> `points` column\n",
    "\n",
    "---\n",
    "###### calculating performance portion using first  attributes  >> (50%) index value\n",
    "\n",
    "will first find out the max value for every column to prepare to calculate proportional value for the attribute\n",
    "\n",
    "- buildUpPlaySpeed"
   ]
  },
  {
   "cell_type": "code",
   "execution_count": 21,
   "metadata": {},
   "outputs": [
    {
     "data": {
      "text/plain": [
       "80"
      ]
     },
     "execution_count": 21,
     "metadata": {},
     "output_type": "execute_result"
    }
   ],
   "source": [
    "max_buildUpPlaySpeed = team_df['buildUpPlaySpeed'].max()\n",
    "max_buildUpPlaySpeed"
   ]
  },
  {
   "cell_type": "markdown",
   "metadata": {},
   "source": [
    "- buildUpPlayPassing"
   ]
  },
  {
   "cell_type": "code",
   "execution_count": 22,
   "metadata": {},
   "outputs": [
    {
     "data": {
      "text/plain": [
       "80"
      ]
     },
     "execution_count": 22,
     "metadata": {},
     "output_type": "execute_result"
    }
   ],
   "source": [
    "max_buildUpPlayPassing = team_df['buildUpPlayPassing'].max()\n",
    "max_buildUpPlayPassing"
   ]
  },
  {
   "cell_type": "markdown",
   "metadata": {},
   "source": [
    "- chanceCreationPassing"
   ]
  },
  {
   "cell_type": "code",
   "execution_count": 23,
   "metadata": {},
   "outputs": [
    {
     "data": {
      "text/plain": [
       "80"
      ]
     },
     "execution_count": 23,
     "metadata": {},
     "output_type": "execute_result"
    }
   ],
   "source": [
    "max_chanceCreationPassing = team_df['chanceCreationPassing'].max()\n",
    "max_chanceCreationPassing"
   ]
  },
  {
   "cell_type": "markdown",
   "metadata": {},
   "source": [
    "looks like they all have a max of 80 so will not calculate the rest \n",
    "- for calculating an attribute proportionality will only divide by 80 "
   ]
  },
  {
   "cell_type": "markdown",
   "metadata": {},
   "source": [
    "---"
   ]
  },
  {
   "cell_type": "markdown",
   "metadata": {},
   "source": [
    "let's go ahead and find the max score in our dataset"
   ]
  },
  {
   "cell_type": "code",
   "execution_count": 24,
   "metadata": {},
   "outputs": [
    {
     "data": {
      "text/plain": [
       "121"
      ]
     },
     "execution_count": 24,
     "metadata": {},
     "output_type": "execute_result"
    }
   ],
   "source": [
    "team_df['goals_year'].max()"
   ]
  },
  {
   "cell_type": "markdown",
   "metadata": {},
   "source": [
    "calculating the `points` column"
   ]
  },
  {
   "cell_type": "code",
   "execution_count": 25,
   "metadata": {},
   "outputs": [],
   "source": [
    "###  using the next columns to calculate the first 50% of the value of the index  >>  `points` column\n",
    "\n",
    "##     `buildUpPlaySpeed`\n",
    "##     `chanceCreationPassing`\n",
    "##     `chanceCreationCrossing`\n",
    "##     `chanceCreationShooting`\n",
    "##     `defencePressure`\n",
    "\n",
    "##  then using `goals_year` column to calculate the second 50% of the value of `points` column\n",
    "\n",
    "team_df['points'] = 0.5*(team_df.apply(lambda row: (row.buildUpPlaySpeed)/80 , axis = 1)        +     \\\n",
    "                         team_df.apply(lambda row: (row.chanceCreationPassing)/80 , axis = 1)   +     \\\n",
    "                         team_df.apply(lambda row: (row.chanceCreationCrossing)/80 , axis = 1)  +     \\\n",
    "                         team_df.apply(lambda row: (row.chanceCreationShooting)/80 , axis = 1)  +     \\\n",
    "                         team_df.apply(lambda row: (row.defencePressure)/80 , axis = 1)      )  +     \\\n",
    "                    0.5*(team_df.apply(lambda row: (row.goals_year)/121 , axis = 1))\n",
    "                        "
   ]
  },
  {
   "cell_type": "code",
   "execution_count": 26,
   "metadata": {
    "collapsed": true
   },
   "outputs": [
    {
     "data": {
      "text/html": [
       "<div>\n",
       "<style scoped>\n",
       "    .dataframe tbody tr th:only-of-type {\n",
       "        vertical-align: middle;\n",
       "    }\n",
       "\n",
       "    .dataframe tbody tr th {\n",
       "        vertical-align: top;\n",
       "    }\n",
       "\n",
       "    .dataframe thead th {\n",
       "        text-align: right;\n",
       "    }\n",
       "</style>\n",
       "<table border=\"1\" class=\"dataframe\">\n",
       "  <thead>\n",
       "    <tr style=\"text-align: right;\">\n",
       "      <th></th>\n",
       "      <th>id</th>\n",
       "      <th>team_fifa_api_id</th>\n",
       "      <th>team_api_id</th>\n",
       "      <th>date</th>\n",
       "      <th>buildUpPlaySpeed</th>\n",
       "      <th>buildUpPlaySpeedClass</th>\n",
       "      <th>buildUpPlayDribblingClass</th>\n",
       "      <th>buildUpPlayPassing</th>\n",
       "      <th>buildUpPlayPassingClass</th>\n",
       "      <th>buildUpPlayPositioningClass</th>\n",
       "      <th>...</th>\n",
       "      <th>defenceAggression</th>\n",
       "      <th>defenceAggressionClass</th>\n",
       "      <th>defenceTeamWidth</th>\n",
       "      <th>defenceTeamWidthClass</th>\n",
       "      <th>defenceDefenderLineClass</th>\n",
       "      <th>team_long_name</th>\n",
       "      <th>team_short_name</th>\n",
       "      <th>year</th>\n",
       "      <th>goals_year</th>\n",
       "      <th>points</th>\n",
       "    </tr>\n",
       "  </thead>\n",
       "  <tbody>\n",
       "    <tr>\n",
       "      <th>0</th>\n",
       "      <td>485</td>\n",
       "      <td>673</td>\n",
       "      <td>9987</td>\n",
       "      <td>2010-02-22 00:00:00</td>\n",
       "      <td>45</td>\n",
       "      <td>Balanced</td>\n",
       "      <td>Little</td>\n",
       "      <td>45</td>\n",
       "      <td>Mixed</td>\n",
       "      <td>Organised</td>\n",
       "      <td>...</td>\n",
       "      <td>65</td>\n",
       "      <td>Press</td>\n",
       "      <td>70</td>\n",
       "      <td>Wide</td>\n",
       "      <td>Cover</td>\n",
       "      <td>KRC Genk</td>\n",
       "      <td>GEN</td>\n",
       "      <td>2010</td>\n",
       "      <td>65</td>\n",
       "      <td>1.893595</td>\n",
       "    </tr>\n",
       "    <tr>\n",
       "      <th>1</th>\n",
       "      <td>486</td>\n",
       "      <td>673</td>\n",
       "      <td>9987</td>\n",
       "      <td>2011-02-22 00:00:00</td>\n",
       "      <td>66</td>\n",
       "      <td>Balanced</td>\n",
       "      <td>Little</td>\n",
       "      <td>52</td>\n",
       "      <td>Mixed</td>\n",
       "      <td>Organised</td>\n",
       "      <td>...</td>\n",
       "      <td>47</td>\n",
       "      <td>Press</td>\n",
       "      <td>54</td>\n",
       "      <td>Normal</td>\n",
       "      <td>Offside Trap</td>\n",
       "      <td>KRC Genk</td>\n",
       "      <td>GEN</td>\n",
       "      <td>2011</td>\n",
       "      <td>47</td>\n",
       "      <td>2.044215</td>\n",
       "    </tr>\n",
       "    <tr>\n",
       "      <th>2</th>\n",
       "      <td>487</td>\n",
       "      <td>673</td>\n",
       "      <td>9987</td>\n",
       "      <td>2012-02-22 00:00:00</td>\n",
       "      <td>53</td>\n",
       "      <td>Balanced</td>\n",
       "      <td>Little</td>\n",
       "      <td>55</td>\n",
       "      <td>Mixed</td>\n",
       "      <td>Organised</td>\n",
       "      <td>...</td>\n",
       "      <td>45</td>\n",
       "      <td>Press</td>\n",
       "      <td>55</td>\n",
       "      <td>Normal</td>\n",
       "      <td>Cover</td>\n",
       "      <td>KRC Genk</td>\n",
       "      <td>GEN</td>\n",
       "      <td>2012</td>\n",
       "      <td>67</td>\n",
       "      <td>1.895610</td>\n",
       "    </tr>\n",
       "    <tr>\n",
       "      <th>3</th>\n",
       "      <td>488</td>\n",
       "      <td>673</td>\n",
       "      <td>9987</td>\n",
       "      <td>2013-09-20 00:00:00</td>\n",
       "      <td>58</td>\n",
       "      <td>Balanced</td>\n",
       "      <td>Little</td>\n",
       "      <td>38</td>\n",
       "      <td>Mixed</td>\n",
       "      <td>Organised</td>\n",
       "      <td>...</td>\n",
       "      <td>45</td>\n",
       "      <td>Press</td>\n",
       "      <td>55</td>\n",
       "      <td>Normal</td>\n",
       "      <td>Cover</td>\n",
       "      <td>KRC Genk</td>\n",
       "      <td>GEN</td>\n",
       "      <td>2013</td>\n",
       "      <td>20</td>\n",
       "      <td>1.807645</td>\n",
       "    </tr>\n",
       "    <tr>\n",
       "      <th>4</th>\n",
       "      <td>489</td>\n",
       "      <td>673</td>\n",
       "      <td>9987</td>\n",
       "      <td>2014-09-19 00:00:00</td>\n",
       "      <td>58</td>\n",
       "      <td>Balanced</td>\n",
       "      <td>Normal</td>\n",
       "      <td>38</td>\n",
       "      <td>Mixed</td>\n",
       "      <td>Organised</td>\n",
       "      <td>...</td>\n",
       "      <td>45</td>\n",
       "      <td>Press</td>\n",
       "      <td>55</td>\n",
       "      <td>Normal</td>\n",
       "      <td>Cover</td>\n",
       "      <td>KRC Genk</td>\n",
       "      <td>GEN</td>\n",
       "      <td>2014</td>\n",
       "      <td>26</td>\n",
       "      <td>1.832438</td>\n",
       "    </tr>\n",
       "  </tbody>\n",
       "</table>\n",
       "<p>5 rows × 29 columns</p>\n",
       "</div>"
      ],
      "text/plain": [
       "    id  team_fifa_api_id  team_api_id                 date  buildUpPlaySpeed  \\\n",
       "0  485               673         9987  2010-02-22 00:00:00                45   \n",
       "1  486               673         9987  2011-02-22 00:00:00                66   \n",
       "2  487               673         9987  2012-02-22 00:00:00                53   \n",
       "3  488               673         9987  2013-09-20 00:00:00                58   \n",
       "4  489               673         9987  2014-09-19 00:00:00                58   \n",
       "\n",
       "  buildUpPlaySpeedClass buildUpPlayDribblingClass  buildUpPlayPassing  \\\n",
       "0              Balanced                    Little                  45   \n",
       "1              Balanced                    Little                  52   \n",
       "2              Balanced                    Little                  55   \n",
       "3              Balanced                    Little                  38   \n",
       "4              Balanced                    Normal                  38   \n",
       "\n",
       "  buildUpPlayPassingClass buildUpPlayPositioningClass  ...  defenceAggression  \\\n",
       "0                   Mixed                   Organised  ...                 65   \n",
       "1                   Mixed                   Organised  ...                 47   \n",
       "2                   Mixed                   Organised  ...                 45   \n",
       "3                   Mixed                   Organised  ...                 45   \n",
       "4                   Mixed                   Organised  ...                 45   \n",
       "\n",
       "  defenceAggressionClass  defenceTeamWidth defenceTeamWidthClass  \\\n",
       "0                  Press                70                  Wide   \n",
       "1                  Press                54                Normal   \n",
       "2                  Press                55                Normal   \n",
       "3                  Press                55                Normal   \n",
       "4                  Press                55                Normal   \n",
       "\n",
       "   defenceDefenderLineClass team_long_name team_short_name  year goals_year  \\\n",
       "0                     Cover       KRC Genk             GEN  2010         65   \n",
       "1              Offside Trap       KRC Genk             GEN  2011         47   \n",
       "2                     Cover       KRC Genk             GEN  2012         67   \n",
       "3                     Cover       KRC Genk             GEN  2013         20   \n",
       "4                     Cover       KRC Genk             GEN  2014         26   \n",
       "\n",
       "     points  \n",
       "0  1.893595  \n",
       "1  2.044215  \n",
       "2  1.895610  \n",
       "3  1.807645  \n",
       "4  1.832438  \n",
       "\n",
       "[5 rows x 29 columns]"
      ]
     },
     "execution_count": 26,
     "metadata": {},
     "output_type": "execute_result"
    }
   ],
   "source": [
    "team_df.head()"
   ]
  },
  {
   "cell_type": "markdown",
   "metadata": {},
   "source": [
    "let's find out the top 5 teams that improved the most over the time period"
   ]
  },
  {
   "cell_type": "markdown",
   "metadata": {},
   "source": [
    "but we will first make a new small dataframe `total_points` that has 3 columns \n",
    "\n",
    "- `teams_list` >>> teams api ids\n",
    "- `sum_points_list`  >>> total points across the time period for each team\n",
    "- `team_long_list`   >>>>>  that the long team name "
   ]
  },
  {
   "cell_type": "code",
   "execution_count": 27,
   "metadata": {},
   "outputs": [],
   "source": [
    "teams_api_id = list(team_df['team_api_id'].unique())"
   ]
  },
  {
   "cell_type": "code",
   "execution_count": 28,
   "metadata": {},
   "outputs": [],
   "source": [
    "teams_list = []  \n",
    "sum_points_list = []\n",
    "team_long_list = []\n",
    "\n",
    "for id_t in teams_api_id:\n",
    "    teams_list.append(id_t)\n",
    "    team = team_df[team_df['team_api_id'] == id_t]\n",
    "    sum_p = team.points.sum()\n",
    "    sum_points_list.append(sum_p)\n",
    "    team_long = list(team.team_long_name.values)[0]\n",
    "    team_long_list.append(team_long)\n",
    "\n",
    "total_points = pd.DataFrame({'teams_list': teams_list , 'sum_points_list': sum_points_list , 'team_long_list': team_long_list}) "
   ]
  },
  {
   "cell_type": "markdown",
   "metadata": {},
   "source": [
    "let's sort by the value of our points sum "
   ]
  },
  {
   "cell_type": "code",
   "execution_count": 33,
   "metadata": {},
   "outputs": [],
   "source": [
    "total_points = total_points.sort_values(by='sum_points_list', ascending=False)"
   ]
  },
  {
   "cell_type": "code",
   "execution_count": 34,
   "metadata": {
    "scrolled": true
   },
   "outputs": [
    {
     "data": {
      "text/html": [
       "<div>\n",
       "<style scoped>\n",
       "    .dataframe tbody tr th:only-of-type {\n",
       "        vertical-align: middle;\n",
       "    }\n",
       "\n",
       "    .dataframe tbody tr th {\n",
       "        vertical-align: top;\n",
       "    }\n",
       "\n",
       "    .dataframe thead th {\n",
       "        text-align: right;\n",
       "    }\n",
       "</style>\n",
       "<table border=\"1\" class=\"dataframe\">\n",
       "  <thead>\n",
       "    <tr style=\"text-align: right;\">\n",
       "      <th></th>\n",
       "      <th>teams_list</th>\n",
       "      <th>sum_points_list</th>\n",
       "      <th>team_long_list</th>\n",
       "    </tr>\n",
       "  </thead>\n",
       "  <tbody>\n",
       "    <tr>\n",
       "      <th>179</th>\n",
       "      <td>9772</td>\n",
       "      <td>12.675052</td>\n",
       "      <td>SL Benfica</td>\n",
       "    </tr>\n",
       "    <tr>\n",
       "      <th>120</th>\n",
       "      <td>9875</td>\n",
       "      <td>12.630114</td>\n",
       "      <td>Napoli</td>\n",
       "    </tr>\n",
       "    <tr>\n",
       "      <th>86</th>\n",
       "      <td>8721</td>\n",
       "      <td>12.569886</td>\n",
       "      <td>VfL Wolfsburg</td>\n",
       "    </tr>\n",
       "    <tr>\n",
       "      <th>119</th>\n",
       "      <td>8686</td>\n",
       "      <td>12.559556</td>\n",
       "      <td>Roma</td>\n",
       "    </tr>\n",
       "    <tr>\n",
       "      <th>82</th>\n",
       "      <td>8178</td>\n",
       "      <td>12.441839</td>\n",
       "      <td>Bayer 04 Leverkusen</td>\n",
       "    </tr>\n",
       "  </tbody>\n",
       "</table>\n",
       "</div>"
      ],
      "text/plain": [
       "     teams_list  sum_points_list       team_long_list\n",
       "179        9772        12.675052           SL Benfica\n",
       "120        9875        12.630114               Napoli\n",
       "86         8721        12.569886        VfL Wolfsburg\n",
       "119        8686        12.559556                 Roma\n",
       "82         8178        12.441839  Bayer 04 Leverkusen"
      ]
     },
     "execution_count": 34,
     "metadata": {},
     "output_type": "execute_result"
    }
   ],
   "source": [
    "our_top5 = total_points.head(5)\n",
    "our_top5"
   ]
  },
  {
   "cell_type": "markdown",
   "metadata": {},
   "source": [
    "will subtract 12 from `sum_points_list` to make our bars look better both our `point` & `sum_points_list` columns are hypothetical any way"
   ]
  },
  {
   "cell_type": "code",
   "execution_count": 36,
   "metadata": {},
   "outputs": [],
   "source": [
    "our_top5['sum_points_list'] = our_top5['sum_points_list'] - 12"
   ]
  },
  {
   "cell_type": "markdown",
   "metadata": {},
   "source": [
    "######  according to my assumed `points` column  i do the following plot : \n"
   ]
  },
  {
   "cell_type": "code",
   "execution_count": 38,
   "metadata": {},
   "outputs": [
    {
     "data": {
      "image/png": "[encoded data removed]",
      "text/plain": [
       "<Figure size 720x504 with 1 Axes>"
      ]
     },
     "metadata": {
      "needs_background": "light"
     },
     "output_type": "display_data"
    }
   ],
   "source": [
    "locations = [0,1,2,3,4]\n",
    "heights = list(our_top5.sum_points_list.values)\n",
    "labels = list(our_top5.team_long_list.values)\n",
    "plt.figure(figsize=(10,7))\n",
    "plt.barh(locations, heights , tick_label=labels ,color = 'grey')\n",
    "plt.title('Top five teams improved the most regarding to performance (using hypothetical index)')\n",
    "plt.ylabel('Team name')\n",
    "plt.xlabel('Total points achieved across the time period ');"
   ]
  },
  {
   "cell_type": "markdown",
   "metadata": {},
   "source": [
    "### (Research Question 3) What team scored the most over the time period ?"
   ]
  },
  {
   "cell_type": "markdown",
   "metadata": {},
   "source": [
    "let's find out the top team that scored the most over the time period\n",
    "\n",
    "but we will first make a new small dataframe `total_goals` that has 3 columns\n",
    "\n",
    " - teams_list >>> teams api ids\n",
    " - sum_goals_list >>> total points across the time period for each team\n",
    " - team_long_list >>>>> that the long team name\n",
    "\n"
   ]
  },
  {
   "cell_type": "code",
   "execution_count": 39,
   "metadata": {},
   "outputs": [],
   "source": [
    "teams_api_id = list(team_df['team_api_id'].unique())"
   ]
  },
  {
   "cell_type": "code",
   "execution_count": 40,
   "metadata": {},
   "outputs": [],
   "source": [
    "teams_list = []  \n",
    "sum_goals_list = []\n",
    "team_long_list = []\n",
    "\n",
    "for id_t in teams_api_id:\n",
    "    teams_list.append(id_t)\n",
    "    team = team_df[team_df['team_api_id'] == id_t]\n",
    "    sum_goals = team.goals_year.sum()\n",
    "    sum_goals_list.append(sum_goals)\n",
    "    team_long = list(team.team_long_name.values)[0]\n",
    "    team_long_list.append(team_long)\n",
    "\n",
    "total_goals = pd.DataFrame({'teams_list': teams_list , 'sum_goals_list': sum_goals_list , 'team_long_list': team_long_list}) "
   ]
  },
  {
   "cell_type": "code",
   "execution_count": 89,
   "metadata": {},
   "outputs": [],
   "source": [
    "total_goals = total_goals.sort_values(by = 'sum_goals_list' , ascending = False)\n",
    "tf = total_goals.head(10)"
   ]
  },
  {
   "cell_type": "code",
   "execution_count": 42,
   "metadata": {
    "collapsed": true
   },
   "outputs": [
    {
     "data": {
      "image/png": "[encoded data removed]",
      "text/plain": [
       "<Figure size 1058.4x504 with 1 Axes>"
      ]
     },
     "metadata": {
      "needs_background": "light"
     },
     "output_type": "display_data"
    }
   ],
   "source": [
    "locations = list(range(0 , len(list(tf.sum_goals_list.values))))\n",
    "heights = list(tf.sum_goals_list.values)\n",
    "labels = list(tf.team_long_list.values)\n",
    "plt.figure(figsize=(14.7,7))\n",
    "plt.barh(locations, heights , tick_label=labels ,color = 'blue')\n",
    "plt.title(\"Total teams' goals in the time period (2010-2015)\")\n",
    "plt.ylabel('Team name')\n",
    "plt.xlabel('Total goals achieved across the time period ');"
   ]
  },
  {
   "cell_type": "markdown",
   "metadata": {},
   "source": [
    "### Questions about player\n",
    "\n",
    "### (Research Question 4) Which players had the most penalties? \n"
   ]
  },
  {
   "cell_type": "markdown",
   "metadata": {},
   "source": [
    "first let's load the player data to start answering players questions "
   ]
  },
  {
   "cell_type": "code",
   "execution_count": 43,
   "metadata": {},
   "outputs": [],
   "source": [
    "player_df = pd.read_csv('player_clean.csv')"
   ]
  },
  {
   "cell_type": "code",
   "execution_count": 44,
   "metadata": {
    "collapsed": true
   },
   "outputs": [
    {
     "name": "stdout",
     "output_type": "stream",
     "text": [
      "<class 'pandas.core.frame.DataFrame'>\n",
      "RangeIndex: 180354 entries, 0 to 180353\n",
      "Data columns (total 46 columns):\n",
      " #   Column               Non-Null Count   Dtype  \n",
      "---  ------               --------------   -----  \n",
      " 0   player_fifa_api_id   180354 non-null  int64  \n",
      " 1   player_name          180354 non-null  object \n",
      " 2   birthday             180354 non-null  object \n",
      " 3   height               180354 non-null  float64\n",
      " 4   weight               180354 non-null  int64  \n",
      " 5   id                   180354 non-null  int64  \n",
      " 6   player_api_id        180354 non-null  int64  \n",
      " 7   date                 180354 non-null  object \n",
      " 8   overall_rating       180354 non-null  float64\n",
      " 9   potential            180354 non-null  float64\n",
      " 10  preferred_foot       180354 non-null  object \n",
      " 11  attacking_work_rate  180354 non-null  object \n",
      " 12  defensive_work_rate  180354 non-null  object \n",
      " 13  crossing             180354 non-null  float64\n",
      " 14  finishing            180354 non-null  float64\n",
      " 15  heading_accuracy     180354 non-null  float64\n",
      " 16  short_passing        180354 non-null  float64\n",
      " 17  volleys              180354 non-null  float64\n",
      " 18  dribbling            180354 non-null  float64\n",
      " 19  curve                180354 non-null  float64\n",
      " 20  free_kick_accuracy   180354 non-null  float64\n",
      " 21  long_passing         180354 non-null  float64\n",
      " 22  ball_control         180354 non-null  float64\n",
      " 23  acceleration         180354 non-null  float64\n",
      " 24  sprint_speed         180354 non-null  float64\n",
      " 25  agility              180354 non-null  float64\n",
      " 26  reactions            180354 non-null  float64\n",
      " 27  balance              180354 non-null  float64\n",
      " 28  shot_power           180354 non-null  float64\n",
      " 29  jumping              180354 non-null  float64\n",
      " 30  stamina              180354 non-null  float64\n",
      " 31  strength             180354 non-null  float64\n",
      " 32  long_shots           180354 non-null  float64\n",
      " 33  aggression           180354 non-null  float64\n",
      " 34  interceptions        180354 non-null  float64\n",
      " 35  positioning          180354 non-null  float64\n",
      " 36  vision               180354 non-null  float64\n",
      " 37  penalties            180354 non-null  int64  \n",
      " 38  marking              180354 non-null  float64\n",
      " 39  standing_tackle      180354 non-null  float64\n",
      " 40  sliding_tackle       180354 non-null  float64\n",
      " 41  gk_diving            180354 non-null  float64\n",
      " 42  gk_handling          180354 non-null  float64\n",
      " 43  gk_kicking           180354 non-null  float64\n",
      " 44  gk_positioning       180354 non-null  float64\n",
      " 45  gk_reflexes          180354 non-null  float64\n",
      "dtypes: float64(35), int64(5), object(6)\n",
      "memory usage: 63.3+ MB\n"
     ]
    }
   ],
   "source": [
    "player_df.info()"
   ]
  },
  {
   "cell_type": "code",
   "execution_count": 45,
   "metadata": {},
   "outputs": [],
   "source": [
    "player_df = player_df.sort_values(by = 'penalties' , ascending = False)\n",
    "### making another dataframe just to see it better\n",
    "player_df_penalties = player_df[['penalties','player_name']]\n",
    "player_df_penalties = player_df_penalties.drop_duplicates()\n",
    "player_df_penalties_10 = player_df_penalties.head(10)"
   ]
  },
  {
   "cell_type": "code",
   "execution_count": 46,
   "metadata": {
    "collapsed": true
   },
   "outputs": [
    {
     "data": {
      "text/html": [
       "<div>\n",
       "<style scoped>\n",
       "    .dataframe tbody tr th:only-of-type {\n",
       "        vertical-align: middle;\n",
       "    }\n",
       "\n",
       "    .dataframe tbody tr th {\n",
       "        vertical-align: top;\n",
       "    }\n",
       "\n",
       "    .dataframe thead th {\n",
       "        text-align: right;\n",
       "    }\n",
       "</style>\n",
       "<table border=\"1\" class=\"dataframe\">\n",
       "  <thead>\n",
       "    <tr style=\"text-align: right;\">\n",
       "      <th></th>\n",
       "      <th>penalties</th>\n",
       "      <th>player_name</th>\n",
       "    </tr>\n",
       "  </thead>\n",
       "  <tbody>\n",
       "    <tr>\n",
       "      <th>146680</th>\n",
       "      <td>96</td>\n",
       "      <td>Rickie Lambert</td>\n",
       "    </tr>\n",
       "    <tr>\n",
       "      <th>146684</th>\n",
       "      <td>95</td>\n",
       "      <td>Rickie Lambert</td>\n",
       "    </tr>\n",
       "    <tr>\n",
       "      <th>11795</th>\n",
       "      <td>95</td>\n",
       "      <td>Andrea Pirlo</td>\n",
       "    </tr>\n",
       "    <tr>\n",
       "      <th>111325</th>\n",
       "      <td>95</td>\n",
       "      <td>Mario Balotelli</td>\n",
       "    </tr>\n",
       "    <tr>\n",
       "      <th>177176</th>\n",
       "      <td>95</td>\n",
       "      <td>Xavi Hernandez</td>\n",
       "    </tr>\n",
       "    <tr>\n",
       "      <th>137745</th>\n",
       "      <td>95</td>\n",
       "      <td>Paul Scholes</td>\n",
       "    </tr>\n",
       "    <tr>\n",
       "      <th>71086</th>\n",
       "      <td>94</td>\n",
       "      <td>Iker Casillas</td>\n",
       "    </tr>\n",
       "    <tr>\n",
       "      <th>26763</th>\n",
       "      <td>94</td>\n",
       "      <td>Cesc Fabregas</td>\n",
       "    </tr>\n",
       "    <tr>\n",
       "      <th>146689</th>\n",
       "      <td>94</td>\n",
       "      <td>Rickie Lambert</td>\n",
       "    </tr>\n",
       "    <tr>\n",
       "      <th>39780</th>\n",
       "      <td>94</td>\n",
       "      <td>David Trezeguet</td>\n",
       "    </tr>\n",
       "  </tbody>\n",
       "</table>\n",
       "</div>"
      ],
      "text/plain": [
       "        penalties      player_name\n",
       "146680         96   Rickie Lambert\n",
       "146684         95   Rickie Lambert\n",
       "11795          95     Andrea Pirlo\n",
       "111325         95  Mario Balotelli\n",
       "177176         95   Xavi Hernandez\n",
       "137745         95     Paul Scholes\n",
       "71086          94    Iker Casillas\n",
       "26763          94    Cesc Fabregas\n",
       "146689         94   Rickie Lambert\n",
       "39780          94  David Trezeguet"
      ]
     },
     "execution_count": 46,
     "metadata": {},
     "output_type": "execute_result"
    }
   ],
   "source": [
    "player_df_penalties_10"
   ]
  },
  {
   "cell_type": "code",
   "execution_count": 47,
   "metadata": {},
   "outputs": [],
   "source": [
    "## calculating proportionality for penalities and storing them in the same column for a more clear chart\n",
    "## through dividing by the column max value `96 `\n",
    "player_df_penalties_10['penalties'] = player_df_penalties_10['penalties']"
   ]
  },
  {
   "cell_type": "code",
   "execution_count": 92,
   "metadata": {},
   "outputs": [
    {
     "data": {
      "text/html": [
       "<div>\n",
       "<style scoped>\n",
       "    .dataframe tbody tr th:only-of-type {\n",
       "        vertical-align: middle;\n",
       "    }\n",
       "\n",
       "    .dataframe tbody tr th {\n",
       "        vertical-align: top;\n",
       "    }\n",
       "\n",
       "    .dataframe thead th {\n",
       "        text-align: right;\n",
       "    }\n",
       "</style>\n",
       "<table border=\"1\" class=\"dataframe\">\n",
       "  <thead>\n",
       "    <tr style=\"text-align: right;\">\n",
       "      <th></th>\n",
       "      <th>penalties</th>\n",
       "      <th>player_name</th>\n",
       "    </tr>\n",
       "  </thead>\n",
       "  <tbody>\n",
       "    <tr>\n",
       "      <th>146680</th>\n",
       "      <td>96</td>\n",
       "      <td>Rickie Lambert</td>\n",
       "    </tr>\n",
       "    <tr>\n",
       "      <th>146684</th>\n",
       "      <td>95</td>\n",
       "      <td>Rickie Lambert</td>\n",
       "    </tr>\n",
       "    <tr>\n",
       "      <th>11795</th>\n",
       "      <td>95</td>\n",
       "      <td>Andrea Pirlo</td>\n",
       "    </tr>\n",
       "    <tr>\n",
       "      <th>111325</th>\n",
       "      <td>95</td>\n",
       "      <td>Mario Balotelli</td>\n",
       "    </tr>\n",
       "    <tr>\n",
       "      <th>177176</th>\n",
       "      <td>95</td>\n",
       "      <td>Xavi Hernandez</td>\n",
       "    </tr>\n",
       "    <tr>\n",
       "      <th>137745</th>\n",
       "      <td>95</td>\n",
       "      <td>Paul Scholes</td>\n",
       "    </tr>\n",
       "    <tr>\n",
       "      <th>71086</th>\n",
       "      <td>94</td>\n",
       "      <td>Iker Casillas</td>\n",
       "    </tr>\n",
       "    <tr>\n",
       "      <th>26763</th>\n",
       "      <td>94</td>\n",
       "      <td>Cesc Fabregas</td>\n",
       "    </tr>\n",
       "    <tr>\n",
       "      <th>146689</th>\n",
       "      <td>94</td>\n",
       "      <td>Rickie Lambert</td>\n",
       "    </tr>\n",
       "    <tr>\n",
       "      <th>39780</th>\n",
       "      <td>94</td>\n",
       "      <td>David Trezeguet</td>\n",
       "    </tr>\n",
       "  </tbody>\n",
       "</table>\n",
       "</div>"
      ],
      "text/plain": [
       "        penalties      player_name\n",
       "146680         96   Rickie Lambert\n",
       "146684         95   Rickie Lambert\n",
       "11795          95     Andrea Pirlo\n",
       "111325         95  Mario Balotelli\n",
       "177176         95   Xavi Hernandez\n",
       "137745         95     Paul Scholes\n",
       "71086          94    Iker Casillas\n",
       "26763          94    Cesc Fabregas\n",
       "146689         94   Rickie Lambert\n",
       "39780          94  David Trezeguet"
      ]
     },
     "execution_count": 92,
     "metadata": {},
     "output_type": "execute_result"
    }
   ],
   "source": [
    "player_df_penalties_10"
   ]
  },
  {
   "cell_type": "code",
   "execution_count": 49,
   "metadata": {
    "collapsed": true
   },
   "outputs": [
    {
     "data": {
      "image/png": "[encoded data removed]",
      "text/plain": [
       "<Figure size 1058.4x504 with 1 Axes>"
      ]
     },
     "metadata": {
      "needs_background": "light"
     },
     "output_type": "display_data"
    }
   ],
   "source": [
    "locations = list(range(0 , len(list(player_df_penalties_10.player_name.values))))\n",
    "heights = list(player_df_penalties_10.penalties.values)\n",
    "labels = list(player_df_penalties_10.player_name.values)\n",
    "plt.figure(figsize=(14.7,7))\n",
    "plt.barh(locations, heights , tick_label=labels ,color = 'darkred')\n",
    "plt.title(\" Players with the most penalties \")\n",
    "plt.ylabel('player name')\n",
    "plt.xlabel('Total penalties over the time period');"
   ]
  },
  {
   "cell_type": "markdown",
   "metadata": {},
   "source": [
    "### (Research Question 5) What player attributes lead to the highest overall ratings ?"
   ]
  },
  {
   "cell_type": "code",
   "execution_count": 63,
   "metadata": {
    "collapsed": true
   },
   "outputs": [
    {
     "name": "stdout",
     "output_type": "stream",
     "text": [
      "<class 'pandas.core.frame.DataFrame'>\n",
      "Int64Index: 180354 entries, 146680 to 96074\n",
      "Data columns (total 46 columns):\n",
      " #   Column               Non-Null Count   Dtype  \n",
      "---  ------               --------------   -----  \n",
      " 0   player_fifa_api_id   180354 non-null  int64  \n",
      " 1   player_name          180354 non-null  object \n",
      " 2   birthday             180354 non-null  object \n",
      " 3   height               180354 non-null  float64\n",
      " 4   weight               180354 non-null  int64  \n",
      " 5   id                   180354 non-null  int64  \n",
      " 6   player_api_id        180354 non-null  int64  \n",
      " 7   date                 180354 non-null  object \n",
      " 8   overall_rating       180354 non-null  float64\n",
      " 9   potential            180354 non-null  float64\n",
      " 10  preferred_foot       180354 non-null  object \n",
      " 11  attacking_work_rate  180354 non-null  object \n",
      " 12  defensive_work_rate  180354 non-null  object \n",
      " 13  crossing             180354 non-null  float64\n",
      " 14  finishing            180354 non-null  float64\n",
      " 15  heading_accuracy     180354 non-null  float64\n",
      " 16  short_passing        180354 non-null  float64\n",
      " 17  volleys              180354 non-null  float64\n",
      " 18  dribbling            180354 non-null  float64\n",
      " 19  curve                180354 non-null  float64\n",
      " 20  free_kick_accuracy   180354 non-null  float64\n",
      " 21  long_passing         180354 non-null  float64\n",
      " 22  ball_control         180354 non-null  float64\n",
      " 23  acceleration         180354 non-null  float64\n",
      " 24  sprint_speed         180354 non-null  float64\n",
      " 25  agility              180354 non-null  float64\n",
      " 26  reactions            180354 non-null  float64\n",
      " 27  balance              180354 non-null  float64\n",
      " 28  shot_power           180354 non-null  float64\n",
      " 29  jumping              180354 non-null  float64\n",
      " 30  stamina              180354 non-null  float64\n",
      " 31  strength             180354 non-null  float64\n",
      " 32  long_shots           180354 non-null  float64\n",
      " 33  aggression           180354 non-null  float64\n",
      " 34  interceptions        180354 non-null  float64\n",
      " 35  positioning          180354 non-null  float64\n",
      " 36  vision               180354 non-null  float64\n",
      " 37  penalties            180354 non-null  int64  \n",
      " 38  marking              180354 non-null  float64\n",
      " 39  standing_tackle      180354 non-null  float64\n",
      " 40  sliding_tackle       180354 non-null  float64\n",
      " 41  gk_diving            180354 non-null  float64\n",
      " 42  gk_handling          180354 non-null  float64\n",
      " 43  gk_kicking           180354 non-null  float64\n",
      " 44  gk_positioning       180354 non-null  float64\n",
      " 45  gk_reflexes          180354 non-null  float64\n",
      "dtypes: float64(35), int64(5), object(6)\n",
      "memory usage: 64.7+ MB\n"
     ]
    }
   ],
   "source": [
    "player_df.info()"
   ]
  },
  {
   "cell_type": "code",
   "execution_count": 65,
   "metadata": {
    "collapsed": true
   },
   "outputs": [
    {
     "data": {
      "text/html": [
       "<div>\n",
       "<style scoped>\n",
       "    .dataframe tbody tr th:only-of-type {\n",
       "        vertical-align: middle;\n",
       "    }\n",
       "\n",
       "    .dataframe tbody tr th {\n",
       "        vertical-align: top;\n",
       "    }\n",
       "\n",
       "    .dataframe thead th {\n",
       "        text-align: right;\n",
       "    }\n",
       "</style>\n",
       "<table border=\"1\" class=\"dataframe\">\n",
       "  <thead>\n",
       "    <tr style=\"text-align: right;\">\n",
       "      <th></th>\n",
       "      <th>player_fifa_api_id</th>\n",
       "      <th>height</th>\n",
       "      <th>weight</th>\n",
       "      <th>id</th>\n",
       "      <th>player_api_id</th>\n",
       "      <th>overall_rating</th>\n",
       "      <th>potential</th>\n",
       "      <th>crossing</th>\n",
       "      <th>finishing</th>\n",
       "      <th>heading_accuracy</th>\n",
       "      <th>...</th>\n",
       "      <th>vision</th>\n",
       "      <th>penalties</th>\n",
       "      <th>marking</th>\n",
       "      <th>standing_tackle</th>\n",
       "      <th>sliding_tackle</th>\n",
       "      <th>gk_diving</th>\n",
       "      <th>gk_handling</th>\n",
       "      <th>gk_kicking</th>\n",
       "      <th>gk_positioning</th>\n",
       "      <th>gk_reflexes</th>\n",
       "    </tr>\n",
       "  </thead>\n",
       "  <tbody>\n",
       "    <tr>\n",
       "      <th>count</th>\n",
       "      <td>180354.000000</td>\n",
       "      <td>180354.000000</td>\n",
       "      <td>180354.000000</td>\n",
       "      <td>180354.000000</td>\n",
       "      <td>180354.000000</td>\n",
       "      <td>180354.000000</td>\n",
       "      <td>180354.000000</td>\n",
       "      <td>180354.000000</td>\n",
       "      <td>180354.000000</td>\n",
       "      <td>180354.000000</td>\n",
       "      <td>...</td>\n",
       "      <td>180354.000000</td>\n",
       "      <td>180354.000000</td>\n",
       "      <td>180354.000000</td>\n",
       "      <td>180354.000000</td>\n",
       "      <td>180354.000000</td>\n",
       "      <td>180354.000000</td>\n",
       "      <td>180354.000000</td>\n",
       "      <td>180354.000000</td>\n",
       "      <td>180354.000000</td>\n",
       "      <td>180354.00000</td>\n",
       "    </tr>\n",
       "    <tr>\n",
       "      <th>mean</th>\n",
       "      <td>166822.125803</td>\n",
       "      <td>181.873388</td>\n",
       "      <td>168.761380</td>\n",
       "      <td>91995.886274</td>\n",
       "      <td>137653.145514</td>\n",
       "      <td>68.635317</td>\n",
       "      <td>73.479457</td>\n",
       "      <td>55.142071</td>\n",
       "      <td>49.962136</td>\n",
       "      <td>57.263476</td>\n",
       "      <td>...</td>\n",
       "      <td>57.868176</td>\n",
       "      <td>54.933448</td>\n",
       "      <td>46.757433</td>\n",
       "      <td>50.354065</td>\n",
       "      <td>48.029342</td>\n",
       "      <td>14.696685</td>\n",
       "      <td>15.947786</td>\n",
       "      <td>20.526304</td>\n",
       "      <td>16.015043</td>\n",
       "      <td>16.32531</td>\n",
       "    </tr>\n",
       "    <tr>\n",
       "      <th>std</th>\n",
       "      <td>52821.443279</td>\n",
       "      <td>6.405167</td>\n",
       "      <td>15.111161</td>\n",
       "      <td>53092.657914</td>\n",
       "      <td>137599.735284</td>\n",
       "      <td>7.027950</td>\n",
       "      <td>6.581963</td>\n",
       "      <td>17.247231</td>\n",
       "      <td>19.041760</td>\n",
       "      <td>16.478716</td>\n",
       "      <td>...</td>\n",
       "      <td>15.152408</td>\n",
       "      <td>15.556645</td>\n",
       "      <td>21.226730</td>\n",
       "      <td>21.496289</td>\n",
       "      <td>21.592830</td>\n",
       "      <td>16.841454</td>\n",
       "      <td>15.841297</td>\n",
       "      <td>21.143898</td>\n",
       "      <td>16.070772</td>\n",
       "      <td>17.18545</td>\n",
       "    </tr>\n",
       "    <tr>\n",
       "      <th>min</th>\n",
       "      <td>2.000000</td>\n",
       "      <td>157.480000</td>\n",
       "      <td>117.000000</td>\n",
       "      <td>1.000000</td>\n",
       "      <td>2625.000000</td>\n",
       "      <td>33.000000</td>\n",
       "      <td>39.000000</td>\n",
       "      <td>1.000000</td>\n",
       "      <td>1.000000</td>\n",
       "      <td>1.000000</td>\n",
       "      <td>...</td>\n",
       "      <td>1.000000</td>\n",
       "      <td>2.000000</td>\n",
       "      <td>1.000000</td>\n",
       "      <td>1.000000</td>\n",
       "      <td>2.000000</td>\n",
       "      <td>1.000000</td>\n",
       "      <td>1.000000</td>\n",
       "      <td>1.000000</td>\n",
       "      <td>1.000000</td>\n",
       "      <td>1.00000</td>\n",
       "    </tr>\n",
       "    <tr>\n",
       "      <th>25%</th>\n",
       "      <td>156616.000000</td>\n",
       "      <td>177.800000</td>\n",
       "      <td>159.000000</td>\n",
       "      <td>46074.250000</td>\n",
       "      <td>35451.000000</td>\n",
       "      <td>64.000000</td>\n",
       "      <td>69.000000</td>\n",
       "      <td>45.000000</td>\n",
       "      <td>34.000000</td>\n",
       "      <td>49.000000</td>\n",
       "      <td>...</td>\n",
       "      <td>49.000000</td>\n",
       "      <td>45.000000</td>\n",
       "      <td>25.000000</td>\n",
       "      <td>29.000000</td>\n",
       "      <td>25.000000</td>\n",
       "      <td>7.000000</td>\n",
       "      <td>8.000000</td>\n",
       "      <td>8.000000</td>\n",
       "      <td>8.000000</td>\n",
       "      <td>8.00000</td>\n",
       "    </tr>\n",
       "    <tr>\n",
       "      <th>50%</th>\n",
       "      <td>183792.000000</td>\n",
       "      <td>182.880000</td>\n",
       "      <td>168.000000</td>\n",
       "      <td>92003.500000</td>\n",
       "      <td>80291.000000</td>\n",
       "      <td>69.000000</td>\n",
       "      <td>74.000000</td>\n",
       "      <td>59.000000</td>\n",
       "      <td>53.000000</td>\n",
       "      <td>60.000000</td>\n",
       "      <td>...</td>\n",
       "      <td>60.000000</td>\n",
       "      <td>57.000000</td>\n",
       "      <td>50.000000</td>\n",
       "      <td>56.000000</td>\n",
       "      <td>53.000000</td>\n",
       "      <td>10.000000</td>\n",
       "      <td>11.000000</td>\n",
       "      <td>12.000000</td>\n",
       "      <td>11.000000</td>\n",
       "      <td>11.00000</td>\n",
       "    </tr>\n",
       "    <tr>\n",
       "      <th>75%</th>\n",
       "      <td>200138.000000</td>\n",
       "      <td>185.420000</td>\n",
       "      <td>179.000000</td>\n",
       "      <td>137935.750000</td>\n",
       "      <td>192841.000000</td>\n",
       "      <td>73.000000</td>\n",
       "      <td>78.000000</td>\n",
       "      <td>68.000000</td>\n",
       "      <td>65.000000</td>\n",
       "      <td>68.000000</td>\n",
       "      <td>...</td>\n",
       "      <td>69.000000</td>\n",
       "      <td>67.000000</td>\n",
       "      <td>66.000000</td>\n",
       "      <td>69.000000</td>\n",
       "      <td>67.000000</td>\n",
       "      <td>13.000000</td>\n",
       "      <td>15.000000</td>\n",
       "      <td>15.000000</td>\n",
       "      <td>15.000000</td>\n",
       "      <td>15.00000</td>\n",
       "    </tr>\n",
       "    <tr>\n",
       "      <th>max</th>\n",
       "      <td>234141.000000</td>\n",
       "      <td>208.280000</td>\n",
       "      <td>243.000000</td>\n",
       "      <td>183978.000000</td>\n",
       "      <td>750584.000000</td>\n",
       "      <td>94.000000</td>\n",
       "      <td>97.000000</td>\n",
       "      <td>95.000000</td>\n",
       "      <td>97.000000</td>\n",
       "      <td>98.000000</td>\n",
       "      <td>...</td>\n",
       "      <td>97.000000</td>\n",
       "      <td>96.000000</td>\n",
       "      <td>94.000000</td>\n",
       "      <td>95.000000</td>\n",
       "      <td>95.000000</td>\n",
       "      <td>94.000000</td>\n",
       "      <td>93.000000</td>\n",
       "      <td>97.000000</td>\n",
       "      <td>96.000000</td>\n",
       "      <td>96.00000</td>\n",
       "    </tr>\n",
       "  </tbody>\n",
       "</table>\n",
       "<p>8 rows × 40 columns</p>\n",
       "</div>"
      ],
      "text/plain": [
       "       player_fifa_api_id         height         weight             id  \\\n",
       "count       180354.000000  180354.000000  180354.000000  180354.000000   \n",
       "mean        166822.125803     181.873388     168.761380   91995.886274   \n",
       "std          52821.443279       6.405167      15.111161   53092.657914   \n",
       "min              2.000000     157.480000     117.000000       1.000000   \n",
       "25%         156616.000000     177.800000     159.000000   46074.250000   \n",
       "50%         183792.000000     182.880000     168.000000   92003.500000   \n",
       "75%         200138.000000     185.420000     179.000000  137935.750000   \n",
       "max         234141.000000     208.280000     243.000000  183978.000000   \n",
       "\n",
       "       player_api_id  overall_rating      potential       crossing  \\\n",
       "count  180354.000000   180354.000000  180354.000000  180354.000000   \n",
       "mean   137653.145514       68.635317      73.479457      55.142071   \n",
       "std    137599.735284        7.027950       6.581963      17.247231   \n",
       "min      2625.000000       33.000000      39.000000       1.000000   \n",
       "25%     35451.000000       64.000000      69.000000      45.000000   \n",
       "50%     80291.000000       69.000000      74.000000      59.000000   \n",
       "75%    192841.000000       73.000000      78.000000      68.000000   \n",
       "max    750584.000000       94.000000      97.000000      95.000000   \n",
       "\n",
       "           finishing  heading_accuracy  ...         vision      penalties  \\\n",
       "count  180354.000000     180354.000000  ...  180354.000000  180354.000000   \n",
       "mean       49.962136         57.263476  ...      57.868176      54.933448   \n",
       "std        19.041760         16.478716  ...      15.152408      15.556645   \n",
       "min         1.000000          1.000000  ...       1.000000       2.000000   \n",
       "25%        34.000000         49.000000  ...      49.000000      45.000000   \n",
       "50%        53.000000         60.000000  ...      60.000000      57.000000   \n",
       "75%        65.000000         68.000000  ...      69.000000      67.000000   \n",
       "max        97.000000         98.000000  ...      97.000000      96.000000   \n",
       "\n",
       "             marking  standing_tackle  sliding_tackle      gk_diving  \\\n",
       "count  180354.000000    180354.000000   180354.000000  180354.000000   \n",
       "mean       46.757433        50.354065       48.029342      14.696685   \n",
       "std        21.226730        21.496289       21.592830      16.841454   \n",
       "min         1.000000         1.000000        2.000000       1.000000   \n",
       "25%        25.000000        29.000000       25.000000       7.000000   \n",
       "50%        50.000000        56.000000       53.000000      10.000000   \n",
       "75%        66.000000        69.000000       67.000000      13.000000   \n",
       "max        94.000000        95.000000       95.000000      94.000000   \n",
       "\n",
       "         gk_handling     gk_kicking  gk_positioning   gk_reflexes  \n",
       "count  180354.000000  180354.000000   180354.000000  180354.00000  \n",
       "mean       15.947786      20.526304       16.015043      16.32531  \n",
       "std        15.841297      21.143898       16.070772      17.18545  \n",
       "min         1.000000       1.000000        1.000000       1.00000  \n",
       "25%         8.000000       8.000000        8.000000       8.00000  \n",
       "50%        11.000000      12.000000       11.000000      11.00000  \n",
       "75%        15.000000      15.000000       15.000000      15.00000  \n",
       "max        93.000000      97.000000       96.000000      96.00000  \n",
       "\n",
       "[8 rows x 40 columns]"
      ]
     },
     "execution_count": 65,
     "metadata": {},
     "output_type": "execute_result"
    }
   ],
   "source": [
    "player_df.describe()"
   ]
  },
  {
   "cell_type": "markdown",
   "metadata": {},
   "source": [
    "first we will calculate the mean of the 'overall_rating' column"
   ]
  },
  {
   "cell_type": "code",
   "execution_count": 64,
   "metadata": {},
   "outputs": [],
   "source": [
    "mean_ov_r = player_df['overall_rating'].mean()"
   ]
  },
  {
   "cell_type": "code",
   "execution_count": 69,
   "metadata": {},
   "outputs": [],
   "source": [
    "### and we will mask our df with it to find players with the highest over_all rating \n",
    "player_high_ov_r = player_df[player_df['overall_rating']   > mean_ov_r]\n",
    "### and we will mask our df with it to find players with the lowest over_all rating \n",
    "player_low_ov_r = player_df[player_df['overall_rating']   < mean_ov_r]"
   ]
  },
  {
   "cell_type": "code",
   "execution_count": 70,
   "metadata": {
    "collapsed": true
   },
   "outputs": [
    {
     "data": {
      "text/html": [
       "<div>\n",
       "<style scoped>\n",
       "    .dataframe tbody tr th:only-of-type {\n",
       "        vertical-align: middle;\n",
       "    }\n",
       "\n",
       "    .dataframe tbody tr th {\n",
       "        vertical-align: top;\n",
       "    }\n",
       "\n",
       "    .dataframe thead th {\n",
       "        text-align: right;\n",
       "    }\n",
       "</style>\n",
       "<table border=\"1\" class=\"dataframe\">\n",
       "  <thead>\n",
       "    <tr style=\"text-align: right;\">\n",
       "      <th></th>\n",
       "      <th>player_fifa_api_id</th>\n",
       "      <th>height</th>\n",
       "      <th>weight</th>\n",
       "      <th>id</th>\n",
       "      <th>player_api_id</th>\n",
       "      <th>overall_rating</th>\n",
       "      <th>potential</th>\n",
       "      <th>crossing</th>\n",
       "      <th>finishing</th>\n",
       "      <th>heading_accuracy</th>\n",
       "      <th>...</th>\n",
       "      <th>vision</th>\n",
       "      <th>penalties</th>\n",
       "      <th>marking</th>\n",
       "      <th>standing_tackle</th>\n",
       "      <th>sliding_tackle</th>\n",
       "      <th>gk_diving</th>\n",
       "      <th>gk_handling</th>\n",
       "      <th>gk_kicking</th>\n",
       "      <th>gk_positioning</th>\n",
       "      <th>gk_reflexes</th>\n",
       "    </tr>\n",
       "  </thead>\n",
       "  <tbody>\n",
       "    <tr>\n",
       "      <th>count</th>\n",
       "      <td>92427.000000</td>\n",
       "      <td>92427.000000</td>\n",
       "      <td>92427.000000</td>\n",
       "      <td>92427.000000</td>\n",
       "      <td>92427.000000</td>\n",
       "      <td>92427.000000</td>\n",
       "      <td>92427.000000</td>\n",
       "      <td>92427.000000</td>\n",
       "      <td>92427.000000</td>\n",
       "      <td>92427.000000</td>\n",
       "      <td>...</td>\n",
       "      <td>92427.000000</td>\n",
       "      <td>92427.000000</td>\n",
       "      <td>92427.000000</td>\n",
       "      <td>92427.000000</td>\n",
       "      <td>92427.000000</td>\n",
       "      <td>92427.000000</td>\n",
       "      <td>92427.000000</td>\n",
       "      <td>92427.000000</td>\n",
       "      <td>92427.000000</td>\n",
       "      <td>92427.000000</td>\n",
       "    </tr>\n",
       "    <tr>\n",
       "      <th>mean</th>\n",
       "      <td>155762.887360</td>\n",
       "      <td>181.784876</td>\n",
       "      <td>169.304294</td>\n",
       "      <td>91580.691346</td>\n",
       "      <td>103557.488699</td>\n",
       "      <td>74.064321</td>\n",
       "      <td>77.489035</td>\n",
       "      <td>60.015721</td>\n",
       "      <td>54.897357</td>\n",
       "      <td>61.276737</td>\n",
       "      <td>...</td>\n",
       "      <td>63.081264</td>\n",
       "      <td>59.688414</td>\n",
       "      <td>49.109200</td>\n",
       "      <td>53.289504</td>\n",
       "      <td>50.428197</td>\n",
       "      <td>14.970214</td>\n",
       "      <td>16.016380</td>\n",
       "      <td>21.095968</td>\n",
       "      <td>16.104082</td>\n",
       "      <td>16.403724</td>\n",
       "    </tr>\n",
       "    <tr>\n",
       "      <th>std</th>\n",
       "      <td>57000.231022</td>\n",
       "      <td>6.504276</td>\n",
       "      <td>15.260864</td>\n",
       "      <td>53229.880230</td>\n",
       "      <td>106772.796414</td>\n",
       "      <td>4.061755</td>\n",
       "      <td>4.885260</td>\n",
       "      <td>17.646203</td>\n",
       "      <td>19.568588</td>\n",
       "      <td>16.963884</td>\n",
       "      <td>...</td>\n",
       "      <td>14.751472</td>\n",
       "      <td>15.684715</td>\n",
       "      <td>23.034808</td>\n",
       "      <td>23.014462</td>\n",
       "      <td>23.244957</td>\n",
       "      <td>17.875479</td>\n",
       "      <td>16.916882</td>\n",
       "      <td>22.762401</td>\n",
       "      <td>17.234885</td>\n",
       "      <td>18.299997</td>\n",
       "    </tr>\n",
       "    <tr>\n",
       "      <th>min</th>\n",
       "      <td>2.000000</td>\n",
       "      <td>157.480000</td>\n",
       "      <td>117.000000</td>\n",
       "      <td>6.000000</td>\n",
       "      <td>2752.000000</td>\n",
       "      <td>69.000000</td>\n",
       "      <td>59.000000</td>\n",
       "      <td>3.000000</td>\n",
       "      <td>1.000000</td>\n",
       "      <td>1.000000</td>\n",
       "      <td>...</td>\n",
       "      <td>2.000000</td>\n",
       "      <td>2.000000</td>\n",
       "      <td>1.000000</td>\n",
       "      <td>2.000000</td>\n",
       "      <td>3.000000</td>\n",
       "      <td>1.000000</td>\n",
       "      <td>1.000000</td>\n",
       "      <td>1.000000</td>\n",
       "      <td>1.000000</td>\n",
       "      <td>1.000000</td>\n",
       "    </tr>\n",
       "    <tr>\n",
       "      <th>25%</th>\n",
       "      <td>140497.000000</td>\n",
       "      <td>177.800000</td>\n",
       "      <td>159.000000</td>\n",
       "      <td>45757.000000</td>\n",
       "      <td>31291.000000</td>\n",
       "      <td>71.000000</td>\n",
       "      <td>74.000000</td>\n",
       "      <td>52.000000</td>\n",
       "      <td>40.000000</td>\n",
       "      <td>54.000000</td>\n",
       "      <td>...</td>\n",
       "      <td>56.000000</td>\n",
       "      <td>51.000000</td>\n",
       "      <td>25.000000</td>\n",
       "      <td>30.000000</td>\n",
       "      <td>26.000000</td>\n",
       "      <td>8.000000</td>\n",
       "      <td>8.000000</td>\n",
       "      <td>8.000000</td>\n",
       "      <td>8.000000</td>\n",
       "      <td>8.000000</td>\n",
       "    </tr>\n",
       "    <tr>\n",
       "      <th>50%</th>\n",
       "      <td>176619.000000</td>\n",
       "      <td>182.880000</td>\n",
       "      <td>170.000000</td>\n",
       "      <td>90701.000000</td>\n",
       "      <td>42035.000000</td>\n",
       "      <td>73.000000</td>\n",
       "      <td>77.000000</td>\n",
       "      <td>65.000000</td>\n",
       "      <td>60.000000</td>\n",
       "      <td>65.000000</td>\n",
       "      <td>...</td>\n",
       "      <td>66.000000</td>\n",
       "      <td>63.000000</td>\n",
       "      <td>53.000000</td>\n",
       "      <td>60.000000</td>\n",
       "      <td>56.000000</td>\n",
       "      <td>10.000000</td>\n",
       "      <td>11.000000</td>\n",
       "      <td>12.000000</td>\n",
       "      <td>11.000000</td>\n",
       "      <td>11.000000</td>\n",
       "    </tr>\n",
       "    <tr>\n",
       "      <th>75%</th>\n",
       "      <td>192596.000000</td>\n",
       "      <td>185.420000</td>\n",
       "      <td>179.000000</td>\n",
       "      <td>137539.500000</td>\n",
       "      <td>160370.000000</td>\n",
       "      <td>76.000000</td>\n",
       "      <td>81.000000</td>\n",
       "      <td>72.000000</td>\n",
       "      <td>70.000000</td>\n",
       "      <td>73.000000</td>\n",
       "      <td>...</td>\n",
       "      <td>73.000000</td>\n",
       "      <td>71.000000</td>\n",
       "      <td>71.000000</td>\n",
       "      <td>74.000000</td>\n",
       "      <td>72.000000</td>\n",
       "      <td>13.000000</td>\n",
       "      <td>15.000000</td>\n",
       "      <td>15.000000</td>\n",
       "      <td>15.000000</td>\n",
       "      <td>15.000000</td>\n",
       "    </tr>\n",
       "    <tr>\n",
       "      <th>max</th>\n",
       "      <td>232693.000000</td>\n",
       "      <td>203.200000</td>\n",
       "      <td>243.000000</td>\n",
       "      <td>183978.000000</td>\n",
       "      <td>722766.000000</td>\n",
       "      <td>94.000000</td>\n",
       "      <td>97.000000</td>\n",
       "      <td>95.000000</td>\n",
       "      <td>97.000000</td>\n",
       "      <td>98.000000</td>\n",
       "      <td>...</td>\n",
       "      <td>97.000000</td>\n",
       "      <td>96.000000</td>\n",
       "      <td>94.000000</td>\n",
       "      <td>95.000000</td>\n",
       "      <td>95.000000</td>\n",
       "      <td>94.000000</td>\n",
       "      <td>93.000000</td>\n",
       "      <td>97.000000</td>\n",
       "      <td>96.000000</td>\n",
       "      <td>96.000000</td>\n",
       "    </tr>\n",
       "  </tbody>\n",
       "</table>\n",
       "<p>8 rows × 40 columns</p>\n",
       "</div>"
      ],
      "text/plain": [
       "       player_fifa_api_id        height        weight             id  \\\n",
       "count        92427.000000  92427.000000  92427.000000   92427.000000   \n",
       "mean        155762.887360    181.784876    169.304294   91580.691346   \n",
       "std          57000.231022      6.504276     15.260864   53229.880230   \n",
       "min              2.000000    157.480000    117.000000       6.000000   \n",
       "25%         140497.000000    177.800000    159.000000   45757.000000   \n",
       "50%         176619.000000    182.880000    170.000000   90701.000000   \n",
       "75%         192596.000000    185.420000    179.000000  137539.500000   \n",
       "max         232693.000000    203.200000    243.000000  183978.000000   \n",
       "\n",
       "       player_api_id  overall_rating     potential      crossing  \\\n",
       "count   92427.000000    92427.000000  92427.000000  92427.000000   \n",
       "mean   103557.488699       74.064321     77.489035     60.015721   \n",
       "std    106772.796414        4.061755      4.885260     17.646203   \n",
       "min      2752.000000       69.000000     59.000000      3.000000   \n",
       "25%     31291.000000       71.000000     74.000000     52.000000   \n",
       "50%     42035.000000       73.000000     77.000000     65.000000   \n",
       "75%    160370.000000       76.000000     81.000000     72.000000   \n",
       "max    722766.000000       94.000000     97.000000     95.000000   \n",
       "\n",
       "          finishing  heading_accuracy  ...        vision     penalties  \\\n",
       "count  92427.000000      92427.000000  ...  92427.000000  92427.000000   \n",
       "mean      54.897357         61.276737  ...     63.081264     59.688414   \n",
       "std       19.568588         16.963884  ...     14.751472     15.684715   \n",
       "min        1.000000          1.000000  ...      2.000000      2.000000   \n",
       "25%       40.000000         54.000000  ...     56.000000     51.000000   \n",
       "50%       60.000000         65.000000  ...     66.000000     63.000000   \n",
       "75%       70.000000         73.000000  ...     73.000000     71.000000   \n",
       "max       97.000000         98.000000  ...     97.000000     96.000000   \n",
       "\n",
       "            marking  standing_tackle  sliding_tackle     gk_diving  \\\n",
       "count  92427.000000     92427.000000    92427.000000  92427.000000   \n",
       "mean      49.109200        53.289504       50.428197     14.970214   \n",
       "std       23.034808        23.014462       23.244957     17.875479   \n",
       "min        1.000000         2.000000        3.000000      1.000000   \n",
       "25%       25.000000        30.000000       26.000000      8.000000   \n",
       "50%       53.000000        60.000000       56.000000     10.000000   \n",
       "75%       71.000000        74.000000       72.000000     13.000000   \n",
       "max       94.000000        95.000000       95.000000     94.000000   \n",
       "\n",
       "        gk_handling    gk_kicking  gk_positioning   gk_reflexes  \n",
       "count  92427.000000  92427.000000    92427.000000  92427.000000  \n",
       "mean      16.016380     21.095968       16.104082     16.403724  \n",
       "std       16.916882     22.762401       17.234885     18.299997  \n",
       "min        1.000000      1.000000        1.000000      1.000000  \n",
       "25%        8.000000      8.000000        8.000000      8.000000  \n",
       "50%       11.000000     12.000000       11.000000     11.000000  \n",
       "75%       15.000000     15.000000       15.000000     15.000000  \n",
       "max       93.000000     97.000000       96.000000     96.000000  \n",
       "\n",
       "[8 rows x 40 columns]"
      ]
     },
     "execution_count": 70,
     "metadata": {},
     "output_type": "execute_result"
    }
   ],
   "source": [
    "player_high_ov_r.describe()"
   ]
  },
  {
   "cell_type": "code",
   "execution_count": 72,
   "metadata": {
    "collapsed": true
   },
   "outputs": [
    {
     "data": {
      "text/html": [
       "<div>\n",
       "<style scoped>\n",
       "    .dataframe tbody tr th:only-of-type {\n",
       "        vertical-align: middle;\n",
       "    }\n",
       "\n",
       "    .dataframe tbody tr th {\n",
       "        vertical-align: top;\n",
       "    }\n",
       "\n",
       "    .dataframe thead th {\n",
       "        text-align: right;\n",
       "    }\n",
       "</style>\n",
       "<table border=\"1\" class=\"dataframe\">\n",
       "  <thead>\n",
       "    <tr style=\"text-align: right;\">\n",
       "      <th></th>\n",
       "      <th>player_fifa_api_id</th>\n",
       "      <th>height</th>\n",
       "      <th>weight</th>\n",
       "      <th>id</th>\n",
       "      <th>player_api_id</th>\n",
       "      <th>overall_rating</th>\n",
       "      <th>potential</th>\n",
       "      <th>crossing</th>\n",
       "      <th>finishing</th>\n",
       "      <th>heading_accuracy</th>\n",
       "      <th>...</th>\n",
       "      <th>vision</th>\n",
       "      <th>penalties</th>\n",
       "      <th>marking</th>\n",
       "      <th>standing_tackle</th>\n",
       "      <th>sliding_tackle</th>\n",
       "      <th>gk_diving</th>\n",
       "      <th>gk_handling</th>\n",
       "      <th>gk_kicking</th>\n",
       "      <th>gk_positioning</th>\n",
       "      <th>gk_reflexes</th>\n",
       "    </tr>\n",
       "  </thead>\n",
       "  <tbody>\n",
       "    <tr>\n",
       "      <th>count</th>\n",
       "      <td>87927.000000</td>\n",
       "      <td>87927.000000</td>\n",
       "      <td>87927.000000</td>\n",
       "      <td>87927.000000</td>\n",
       "      <td>87927.000000</td>\n",
       "      <td>87927.000000</td>\n",
       "      <td>87927.000000</td>\n",
       "      <td>87927.000000</td>\n",
       "      <td>87927.000000</td>\n",
       "      <td>87927.000000</td>\n",
       "      <td>...</td>\n",
       "      <td>87927.000000</td>\n",
       "      <td>87927.000000</td>\n",
       "      <td>87927.000000</td>\n",
       "      <td>87927.000000</td>\n",
       "      <td>87927.000000</td>\n",
       "      <td>87927.000000</td>\n",
       "      <td>87927.000000</td>\n",
       "      <td>87927.000000</td>\n",
       "      <td>87927.000000</td>\n",
       "      <td>87927.000000</td>\n",
       "    </tr>\n",
       "    <tr>\n",
       "      <th>mean</th>\n",
       "      <td>178447.363006</td>\n",
       "      <td>181.966430</td>\n",
       "      <td>168.190681</td>\n",
       "      <td>92432.330388</td>\n",
       "      <td>173493.777770</td>\n",
       "      <td>62.928463</td>\n",
       "      <td>69.264674</td>\n",
       "      <td>50.018993</td>\n",
       "      <td>44.774336</td>\n",
       "      <td>53.044821</td>\n",
       "      <td>...</td>\n",
       "      <td>52.388288</td>\n",
       "      <td>49.935128</td>\n",
       "      <td>44.285305</td>\n",
       "      <td>47.268393</td>\n",
       "      <td>45.507717</td>\n",
       "      <td>14.409158</td>\n",
       "      <td>15.875681</td>\n",
       "      <td>19.927485</td>\n",
       "      <td>15.921446</td>\n",
       "      <td>16.242883</td>\n",
       "    </tr>\n",
       "    <tr>\n",
       "      <th>std</th>\n",
       "      <td>45210.755367</td>\n",
       "      <td>6.298002</td>\n",
       "      <td>14.931000</td>\n",
       "      <td>52944.821871</td>\n",
       "      <td>156032.425611</td>\n",
       "      <td>4.518733</td>\n",
       "      <td>5.395430</td>\n",
       "      <td>15.219124</td>\n",
       "      <td>16.990995</td>\n",
       "      <td>14.824555</td>\n",
       "      <td>...</td>\n",
       "      <td>13.550066</td>\n",
       "      <td>13.749745</td>\n",
       "      <td>18.828957</td>\n",
       "      <td>19.299815</td>\n",
       "      <td>19.390176</td>\n",
       "      <td>15.676129</td>\n",
       "      <td>14.625388</td>\n",
       "      <td>19.278755</td>\n",
       "      <td>14.747870</td>\n",
       "      <td>15.929703</td>\n",
       "    </tr>\n",
       "    <tr>\n",
       "      <th>min</th>\n",
       "      <td>2.000000</td>\n",
       "      <td>157.480000</td>\n",
       "      <td>117.000000</td>\n",
       "      <td>1.000000</td>\n",
       "      <td>2625.000000</td>\n",
       "      <td>33.000000</td>\n",
       "      <td>39.000000</td>\n",
       "      <td>1.000000</td>\n",
       "      <td>1.000000</td>\n",
       "      <td>1.000000</td>\n",
       "      <td>...</td>\n",
       "      <td>1.000000</td>\n",
       "      <td>3.000000</td>\n",
       "      <td>1.000000</td>\n",
       "      <td>1.000000</td>\n",
       "      <td>2.000000</td>\n",
       "      <td>1.000000</td>\n",
       "      <td>1.000000</td>\n",
       "      <td>1.000000</td>\n",
       "      <td>1.000000</td>\n",
       "      <td>1.000000</td>\n",
       "    </tr>\n",
       "    <tr>\n",
       "      <th>25%</th>\n",
       "      <td>169394.000000</td>\n",
       "      <td>177.800000</td>\n",
       "      <td>159.000000</td>\n",
       "      <td>46188.500000</td>\n",
       "      <td>39842.000000</td>\n",
       "      <td>61.000000</td>\n",
       "      <td>66.000000</td>\n",
       "      <td>41.000000</td>\n",
       "      <td>30.000000</td>\n",
       "      <td>46.000000</td>\n",
       "      <td>...</td>\n",
       "      <td>44.000000</td>\n",
       "      <td>42.000000</td>\n",
       "      <td>25.000000</td>\n",
       "      <td>27.000000</td>\n",
       "      <td>25.000000</td>\n",
       "      <td>7.000000</td>\n",
       "      <td>8.000000</td>\n",
       "      <td>8.000000</td>\n",
       "      <td>8.000000</td>\n",
       "      <td>8.000000</td>\n",
       "    </tr>\n",
       "    <tr>\n",
       "      <th>50%</th>\n",
       "      <td>189736.000000</td>\n",
       "      <td>182.880000</td>\n",
       "      <td>168.000000</td>\n",
       "      <td>93347.000000</td>\n",
       "      <td>139806.000000</td>\n",
       "      <td>64.000000</td>\n",
       "      <td>69.000000</td>\n",
       "      <td>54.000000</td>\n",
       "      <td>47.000000</td>\n",
       "      <td>56.000000</td>\n",
       "      <td>...</td>\n",
       "      <td>55.000000</td>\n",
       "      <td>51.000000</td>\n",
       "      <td>49.000000</td>\n",
       "      <td>54.000000</td>\n",
       "      <td>52.000000</td>\n",
       "      <td>10.000000</td>\n",
       "      <td>12.000000</td>\n",
       "      <td>12.000000</td>\n",
       "      <td>12.000000</td>\n",
       "      <td>11.000000</td>\n",
       "    </tr>\n",
       "    <tr>\n",
       "      <th>75%</th>\n",
       "      <td>205158.000000</td>\n",
       "      <td>185.420000</td>\n",
       "      <td>179.000000</td>\n",
       "      <td>138630.500000</td>\n",
       "      <td>246317.000000</td>\n",
       "      <td>66.000000</td>\n",
       "      <td>73.000000</td>\n",
       "      <td>62.000000</td>\n",
       "      <td>60.000000</td>\n",
       "      <td>64.000000</td>\n",
       "      <td>...</td>\n",
       "      <td>63.000000</td>\n",
       "      <td>60.000000</td>\n",
       "      <td>62.000000</td>\n",
       "      <td>65.000000</td>\n",
       "      <td>63.000000</td>\n",
       "      <td>13.000000</td>\n",
       "      <td>15.000000</td>\n",
       "      <td>15.000000</td>\n",
       "      <td>15.000000</td>\n",
       "      <td>15.000000</td>\n",
       "    </tr>\n",
       "    <tr>\n",
       "      <th>max</th>\n",
       "      <td>234141.000000</td>\n",
       "      <td>208.280000</td>\n",
       "      <td>243.000000</td>\n",
       "      <td>183953.000000</td>\n",
       "      <td>750584.000000</td>\n",
       "      <td>68.000000</td>\n",
       "      <td>91.000000</td>\n",
       "      <td>86.000000</td>\n",
       "      <td>85.000000</td>\n",
       "      <td>94.000000</td>\n",
       "      <td>...</td>\n",
       "      <td>91.000000</td>\n",
       "      <td>90.000000</td>\n",
       "      <td>84.000000</td>\n",
       "      <td>83.000000</td>\n",
       "      <td>88.000000</td>\n",
       "      <td>88.000000</td>\n",
       "      <td>80.000000</td>\n",
       "      <td>87.000000</td>\n",
       "      <td>79.000000</td>\n",
       "      <td>85.000000</td>\n",
       "    </tr>\n",
       "  </tbody>\n",
       "</table>\n",
       "<p>8 rows × 40 columns</p>\n",
       "</div>"
      ],
      "text/plain": [
       "       player_fifa_api_id        height        weight             id  \\\n",
       "count        87927.000000  87927.000000  87927.000000   87927.000000   \n",
       "mean        178447.363006    181.966430    168.190681   92432.330388   \n",
       "std          45210.755367      6.298002     14.931000   52944.821871   \n",
       "min              2.000000    157.480000    117.000000       1.000000   \n",
       "25%         169394.000000    177.800000    159.000000   46188.500000   \n",
       "50%         189736.000000    182.880000    168.000000   93347.000000   \n",
       "75%         205158.000000    185.420000    179.000000  138630.500000   \n",
       "max         234141.000000    208.280000    243.000000  183953.000000   \n",
       "\n",
       "       player_api_id  overall_rating     potential      crossing  \\\n",
       "count   87927.000000    87927.000000  87927.000000  87927.000000   \n",
       "mean   173493.777770       62.928463     69.264674     50.018993   \n",
       "std    156032.425611        4.518733      5.395430     15.219124   \n",
       "min      2625.000000       33.000000     39.000000      1.000000   \n",
       "25%     39842.000000       61.000000     66.000000     41.000000   \n",
       "50%    139806.000000       64.000000     69.000000     54.000000   \n",
       "75%    246317.000000       66.000000     73.000000     62.000000   \n",
       "max    750584.000000       68.000000     91.000000     86.000000   \n",
       "\n",
       "          finishing  heading_accuracy  ...        vision     penalties  \\\n",
       "count  87927.000000      87927.000000  ...  87927.000000  87927.000000   \n",
       "mean      44.774336         53.044821  ...     52.388288     49.935128   \n",
       "std       16.990995         14.824555  ...     13.550066     13.749745   \n",
       "min        1.000000          1.000000  ...      1.000000      3.000000   \n",
       "25%       30.000000         46.000000  ...     44.000000     42.000000   \n",
       "50%       47.000000         56.000000  ...     55.000000     51.000000   \n",
       "75%       60.000000         64.000000  ...     63.000000     60.000000   \n",
       "max       85.000000         94.000000  ...     91.000000     90.000000   \n",
       "\n",
       "            marking  standing_tackle  sliding_tackle     gk_diving  \\\n",
       "count  87927.000000     87927.000000    87927.000000  87927.000000   \n",
       "mean      44.285305        47.268393       45.507717     14.409158   \n",
       "std       18.828957        19.299815       19.390176     15.676129   \n",
       "min        1.000000         1.000000        2.000000      1.000000   \n",
       "25%       25.000000        27.000000       25.000000      7.000000   \n",
       "50%       49.000000        54.000000       52.000000     10.000000   \n",
       "75%       62.000000        65.000000       63.000000     13.000000   \n",
       "max       84.000000        83.000000       88.000000     88.000000   \n",
       "\n",
       "        gk_handling    gk_kicking  gk_positioning   gk_reflexes  \n",
       "count  87927.000000  87927.000000    87927.000000  87927.000000  \n",
       "mean      15.875681     19.927485       15.921446     16.242883  \n",
       "std       14.625388     19.278755       14.747870     15.929703  \n",
       "min        1.000000      1.000000        1.000000      1.000000  \n",
       "25%        8.000000      8.000000        8.000000      8.000000  \n",
       "50%       12.000000     12.000000       12.000000     11.000000  \n",
       "75%       15.000000     15.000000       15.000000     15.000000  \n",
       "max       80.000000     87.000000       79.000000     85.000000  \n",
       "\n",
       "[8 rows x 40 columns]"
      ]
     },
     "execution_count": 72,
     "metadata": {},
     "output_type": "execute_result"
    }
   ],
   "source": [
    "player_low_ov_r.describe()"
   ]
  },
  {
   "cell_type": "markdown",
   "metadata": {},
   "source": [
    "all attributes seems to have a positive corelation with the overall rating and surprisingly even players with the most penalties have the above average `overall_rating` "
   ]
  },
  {
   "cell_type": "code",
   "execution_count": 76,
   "metadata": {},
   "outputs": [
    {
     "data": {
      "image/png": "[encoded data removed]",
      "text/plain": [
       "<Figure size 504x504 with 1 Axes>"
      ]
     },
     "metadata": {
      "needs_background": "light"
     },
     "output_type": "display_data"
    }
   ],
   "source": [
    "player_high_ov_r.penalties.hist(figsize = (7,7),alpha = .5 ,bins = 10, label = 'players with above averge overall rating')\n",
    "player_low_ov_r.penalties.hist(figsize = (7,7),alpha = .5 ,bins = 10, label  = 'players with below averge overall rating');\n",
    "plt.xlabel('Penalties')\n",
    "plt.legend();"
   ]
  },
  {
   "cell_type": "markdown",
   "metadata": {},
   "source": [
    "### (Research Question 6) Does  players' Footedness affect their potential ?"
   ]
  },
  {
   "cell_type": "markdown",
   "metadata": {},
   "source": [
    "first lets mask our dataframe with 'right' & 'left' values in the  `preferred_foot` column\n",
    "to find each group\n",
    "\n",
    "---\n",
    "and then calculate the mean potential value for each"
   ]
  },
  {
   "cell_type": "code",
   "execution_count": 80,
   "metadata": {},
   "outputs": [],
   "source": [
    "player_foot_R = player_df[player_df['preferred_foot'] == 'right']"
   ]
  },
  {
   "cell_type": "code",
   "execution_count": 81,
   "metadata": {},
   "outputs": [
    {
     "data": {
      "text/plain": [
       "73.4663001754167"
      ]
     },
     "execution_count": 81,
     "metadata": {},
     "output_type": "execute_result"
    }
   ],
   "source": [
    "player_foot_R.potential.mean()"
   ]
  },
  {
   "cell_type": "code",
   "execution_count": 82,
   "metadata": {},
   "outputs": [],
   "source": [
    "player_foot_l = player_df[player_df['preferred_foot'] == 'left']"
   ]
  },
  {
   "cell_type": "code",
   "execution_count": 83,
   "metadata": {},
   "outputs": [
    {
     "data": {
      "text/plain": [
       "73.52009885052259"
      ]
     },
     "execution_count": 83,
     "metadata": {},
     "output_type": "execute_result"
    }
   ],
   "source": [
    "player_foot_l.potential.mean()"
   ]
  },
  {
   "cell_type": "markdown",
   "metadata": {},
   "source": [
    "numbers are really close but it tends a little  to the left_footed players\n",
    "\n",
    "so players that have a `left` preferred_foot tend to have the highest value in the `potential` column "
   ]
  },
  {
   "cell_type": "code",
   "execution_count": 88,
   "metadata": {
    "collapsed": true
   },
   "outputs": [
    {
     "data": {
      "image/png": "[encoded data removed]",
      "text/plain": [
       "<Figure size 720x504 with 1 Axes>"
      ]
     },
     "metadata": {
      "needs_background": "light"
     },
     "output_type": "display_data"
    }
   ],
   "source": [
    "locations = [0,1]\n",
    "heights = [player_foot_l.potential.mean() -73 , player_foot_R.potential.mean()-73]\n",
    "labels = ['Left' , 'Right']\n",
    "plt.figure(figsize=(10,7))\n",
    "plt.bar(locations, heights , tick_label=labels ,color = 'blue')\n",
    "plt.title('Comparison between potential of right & left footed players')\n",
    "plt.ylabel('Potential')\n",
    "plt.xlabel('Player Footedness (preferred_foot) ');"
   ]
  },
  {
   "cell_type": "markdown",
   "metadata": {},
   "source": [
    "<a id='conclusions'></a>\n",
    "## Conclusions\n",
    "\n",
    "First i am going to discuss limitations in my EDA phase :\n",
    "\n",
    "\n",
    "- 1) when i was trying to answer (Research Question 1) What are the top 5 teams that improved the most over the time period ? \n",
    "   \n",
    "   - i manufactured an index to measure teams' performance  which is the sum of two parts a value calculated from    team attributes (50%) and the other is calculated from teams' goals (50%) and this index is a mere assumption \n",
    "\n",
    "- 2) when i came by (Research Question 2) What team attributes lead to the most victories?\n",
    "  \n",
    "   - i chose only columns with numeric values(int,float) which is note necessarily the most accurate to answer the\n",
    "     question but i preferred them because of the ease to plot with them \n",
    "     \n",
    "- 3) when i came by (Research Question 3) What team scored the most over the time period ?\n",
    "  \n",
    "   - i used the `goals_year` column which i generated earlier and may be slightly not accurate compared to teams        score in real world \n",
    "\n",
    "- 4) when i came by (Research Question 4) Which players had the most penalties?\n",
    "  \n",
    "   - i used the bar chart to express my findings and it may not be the best way to do that because values are so        tight\n",
    "\n",
    "- 5) when i came by (Research Question 5) What player attributes lead to the highest overall ratings ?\n",
    "  \n",
    "   - i used the mean measure do differentiate between attributes which is one of many measures to use but i found      it the most expresive\n",
    "\n",
    "- 6) when i came by (Research Question 6) Does players' Footedness affect their potential ?\n",
    "    \n",
    "  - i subtracted 73 from the value of potential for both right & left footed players to make the chart look better\n",
    "\n",
    "\n",
    "Second i would like to share the following findings :\n",
    "\n",
    "- From my point of view seems like all team attributes are related to most score except the `buildUpPlayPassing` att. \n",
    "\n",
    "- From my point of view top 5 teams which improved the most accordind to my index of performance:\n",
    "\n",
    "     - 1) SL Benfica\n",
    "     - 2) Napoli\n",
    "     - 3) Wolfsburg\n",
    "     - 4) Roma\n",
    "     - 5) Bayer 04 Leverkusen\n",
    "\n",
    "- The team with the most goals in the time period is 'Real Madrid'\n",
    "\n",
    "- Players with most penalties respectively are :\n",
    "   \n",
    "     - Rickie Lambert\n",
    "     - Andrea Pirlo\n",
    "     - Mario Balotelli\n",
    "     - Xavi Hernandez\n",
    "     - Paul Scholes\n",
    "     - Iker Casillas\n",
    "     - Cesc Fabregas\n",
    "     - Rickie Lambert\n",
    "     - David Trezeguet\n",
    "\n",
    "- all player attributes seems to have a positive corelation with the overall rating and surprisingly even players with the most penalties have the above average \n",
    "\n",
    "\n",
    "- players that have a `left` preferred_foot tend to have the highest value in the `potential` column"
   ]
  },
  {
   "cell_type": "code",
   "execution_count": null,
   "metadata": {},
   "outputs": [],
   "source": [
    "from subprocess import call\n",
    "call(['python', '-m', 'nbconvert', 'Investigate_a_Dataset.ipynb'])"
   ]
  }
 ],
 "metadata": {
  "kernelspec": {
   "display_name": "Python 3",
   "language": "python",
   "name": "python3"
  },
  "language_info": {
   "codemirror_mode": {
    "name": "ipython",
    "version": 3
   },
   "file_extension": ".py",
   "mimetype": "text/x-python",
   "name": "python",
   "nbconvert_exporter": "python",
   "pygments_lexer": "ipython3",
   "version": "3.8.5"
  }
 },
 "nbformat": 4,
 "nbformat_minor": 2
}
